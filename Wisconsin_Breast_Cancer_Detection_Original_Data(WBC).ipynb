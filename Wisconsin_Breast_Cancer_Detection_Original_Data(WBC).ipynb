{
 "cells": [
  {
   "cell_type": "code",
   "execution_count": 1329,
   "metadata": {
    "id": "ASSymPFi-bZV"
   },
   "outputs": [],
   "source": [
    "from sklearn.preprocessing import LabelEncoder\n",
    "\n",
    "import numpy as np\n",
    "import pandas as pd\n",
    "import seaborn as sns\n",
    "import matplotlib.pyplot as plt\n",
    "\n",
    "from sklearn.discriminant_analysis import LinearDiscriminantAnalysis\n",
    "from sklearn.linear_model import LogisticRegression\n",
    "from sklearn.linear_model import SGDClassifier\n",
    "from sklearn.tree import DecisionTreeClassifier\n",
    "from sklearn.svm import SVC\n",
    "from sklearn.neighbors import KNeighborsClassifier\n",
    "from sklearn.naive_bayes import GaussianNB\n",
    "from sklearn.ensemble import AdaBoostClassifier\n",
    "from sklearn.ensemble import RandomForestClassifier\n",
    "from sklearn.ensemble import VotingClassifier\n",
    "from sklearn.ensemble import BaggingClassifier\n",
    "from sklearn.ensemble import GradientBoostingClassifier\n",
    "\n",
    "from sklearn.model_selection import KFold, RepeatedKFold, RepeatedStratifiedKFold, StratifiedKFold\n",
    "from sklearn.model_selection import cross_val_score\n",
    "from sklearn.model_selection import train_test_split\n",
    "from sklearn.metrics import accuracy_score,classification_report,confusion_matrix\n",
    "from sklearn.decomposition import PCA\n",
    "from sklearn.preprocessing import StandardScaler\n",
    "from scipy.stats import norm\n",
    "\n",
    "import warnings\n",
    "warnings.filterwarnings('ignore')"
   ]
  },
  {
   "cell_type": "code",
   "execution_count": 1330,
   "metadata": {
    "id": "KDEt6Fos-1rG"
   },
   "outputs": [],
   "source": [
    "df=pd.read_csv(\"breast cancer original.csv\")"
   ]
  },
  {
   "cell_type": "code",
   "execution_count": 1331,
   "metadata": {
    "colab": {
     "base_uri": "https://localhost:8080/",
     "height": 204
    },
    "id": "2P6yiD6d_q7v",
    "outputId": "44416a7d-22bf-4964-dec1-4c53fa7a9388"
   },
   "outputs": [
    {
     "data": {
      "text/html": [
       "<div>\n",
       "<style scoped>\n",
       "    .dataframe tbody tr th:only-of-type {\n",
       "        vertical-align: middle;\n",
       "    }\n",
       "\n",
       "    .dataframe tbody tr th {\n",
       "        vertical-align: top;\n",
       "    }\n",
       "\n",
       "    .dataframe thead th {\n",
       "        text-align: right;\n",
       "    }\n",
       "</style>\n",
       "<table border=\"1\" class=\"dataframe\">\n",
       "  <thead>\n",
       "    <tr style=\"text-align: right;\">\n",
       "      <th></th>\n",
       "      <th>Sample code number</th>\n",
       "      <th>Clump Thickness</th>\n",
       "      <th>Uniformity of Cell Size</th>\n",
       "      <th>Uniformity of Cell Shape</th>\n",
       "      <th>Marginal Adhesion</th>\n",
       "      <th>Single Epithelial Cell Size</th>\n",
       "      <th>Bare Nuclei</th>\n",
       "      <th>Bland Chromatin</th>\n",
       "      <th>Normal Nucleoli</th>\n",
       "      <th>Mitoses</th>\n",
       "      <th>Class</th>\n",
       "    </tr>\n",
       "  </thead>\n",
       "  <tbody>\n",
       "    <tr>\n",
       "      <th>30</th>\n",
       "      <td>1070935</td>\n",
       "      <td>3</td>\n",
       "      <td>1</td>\n",
       "      <td>1</td>\n",
       "      <td>1</td>\n",
       "      <td>1</td>\n",
       "      <td>1</td>\n",
       "      <td>2</td>\n",
       "      <td>1</td>\n",
       "      <td>1</td>\n",
       "      <td>2</td>\n",
       "    </tr>\n",
       "    <tr>\n",
       "      <th>246</th>\n",
       "      <td>144888</td>\n",
       "      <td>8</td>\n",
       "      <td>10</td>\n",
       "      <td>10</td>\n",
       "      <td>8</td>\n",
       "      <td>5</td>\n",
       "      <td>10</td>\n",
       "      <td>7</td>\n",
       "      <td>8</td>\n",
       "      <td>1</td>\n",
       "      <td>4</td>\n",
       "    </tr>\n",
       "    <tr>\n",
       "      <th>334</th>\n",
       "      <td>785615</td>\n",
       "      <td>8</td>\n",
       "      <td>6</td>\n",
       "      <td>7</td>\n",
       "      <td>3</td>\n",
       "      <td>3</td>\n",
       "      <td>10</td>\n",
       "      <td>3</td>\n",
       "      <td>4</td>\n",
       "      <td>2</td>\n",
       "      <td>4</td>\n",
       "    </tr>\n",
       "    <tr>\n",
       "      <th>571</th>\n",
       "      <td>142932</td>\n",
       "      <td>7</td>\n",
       "      <td>6</td>\n",
       "      <td>10</td>\n",
       "      <td>5</td>\n",
       "      <td>3</td>\n",
       "      <td>10</td>\n",
       "      <td>9</td>\n",
       "      <td>10</td>\n",
       "      <td>2</td>\n",
       "      <td>4</td>\n",
       "    </tr>\n",
       "    <tr>\n",
       "      <th>462</th>\n",
       "      <td>1276091</td>\n",
       "      <td>6</td>\n",
       "      <td>1</td>\n",
       "      <td>1</td>\n",
       "      <td>3</td>\n",
       "      <td>2</td>\n",
       "      <td>1</td>\n",
       "      <td>1</td>\n",
       "      <td>1</td>\n",
       "      <td>1</td>\n",
       "      <td>2</td>\n",
       "    </tr>\n",
       "  </tbody>\n",
       "</table>\n",
       "</div>"
      ],
      "text/plain": [
       "     Sample code number  Clump Thickness  Uniformity of Cell Size  \\\n",
       "30              1070935                3                        1   \n",
       "246              144888                8                       10   \n",
       "334              785615                8                        6   \n",
       "571              142932                7                        6   \n",
       "462             1276091                6                        1   \n",
       "\n",
       "     Uniformity of Cell Shape  Marginal Adhesion  Single Epithelial Cell Size  \\\n",
       "30                          1                  1                            1   \n",
       "246                        10                  8                            5   \n",
       "334                         7                  3                            3   \n",
       "571                        10                  5                            3   \n",
       "462                         1                  3                            2   \n",
       "\n",
       "    Bare Nuclei  Bland Chromatin  Normal Nucleoli  Mitoses  Class  \n",
       "30            1                2                1        1      2  \n",
       "246          10                7                8        1      4  \n",
       "334          10                3                4        2      4  \n",
       "571          10                9               10        2      4  \n",
       "462           1                1                1        1      2  "
      ]
     },
     "execution_count": 1331,
     "metadata": {},
     "output_type": "execute_result"
    }
   ],
   "source": [
    "df.sample(5)"
   ]
  },
  {
   "cell_type": "code",
   "execution_count": 1332,
   "metadata": {
    "colab": {
     "base_uri": "https://localhost:8080/",
     "height": 204
    },
    "id": "fL-o9z4UYk_R",
    "outputId": "a3cf3a32-d828-4910-abce-0404b3e0ebbb"
   },
   "outputs": [
    {
     "data": {
      "text/html": [
       "<div>\n",
       "<style scoped>\n",
       "    .dataframe tbody tr th:only-of-type {\n",
       "        vertical-align: middle;\n",
       "    }\n",
       "\n",
       "    .dataframe tbody tr th {\n",
       "        vertical-align: top;\n",
       "    }\n",
       "\n",
       "    .dataframe thead th {\n",
       "        text-align: right;\n",
       "    }\n",
       "</style>\n",
       "<table border=\"1\" class=\"dataframe\">\n",
       "  <thead>\n",
       "    <tr style=\"text-align: right;\">\n",
       "      <th></th>\n",
       "      <th>Clump Thickness</th>\n",
       "      <th>Uniformity of Cell Size</th>\n",
       "      <th>Uniformity of Cell Shape</th>\n",
       "      <th>Marginal Adhesion</th>\n",
       "      <th>Single Epithelial Cell Size</th>\n",
       "      <th>Bare Nuclei</th>\n",
       "      <th>Bland Chromatin</th>\n",
       "      <th>Normal Nucleoli</th>\n",
       "      <th>Mitoses</th>\n",
       "      <th>Class</th>\n",
       "    </tr>\n",
       "  </thead>\n",
       "  <tbody>\n",
       "    <tr>\n",
       "      <th>694</th>\n",
       "      <td>3</td>\n",
       "      <td>1</td>\n",
       "      <td>1</td>\n",
       "      <td>1</td>\n",
       "      <td>3</td>\n",
       "      <td>2</td>\n",
       "      <td>1</td>\n",
       "      <td>1</td>\n",
       "      <td>1</td>\n",
       "      <td>2</td>\n",
       "    </tr>\n",
       "    <tr>\n",
       "      <th>695</th>\n",
       "      <td>2</td>\n",
       "      <td>1</td>\n",
       "      <td>1</td>\n",
       "      <td>1</td>\n",
       "      <td>2</td>\n",
       "      <td>1</td>\n",
       "      <td>1</td>\n",
       "      <td>1</td>\n",
       "      <td>1</td>\n",
       "      <td>2</td>\n",
       "    </tr>\n",
       "    <tr>\n",
       "      <th>696</th>\n",
       "      <td>5</td>\n",
       "      <td>10</td>\n",
       "      <td>10</td>\n",
       "      <td>3</td>\n",
       "      <td>7</td>\n",
       "      <td>3</td>\n",
       "      <td>8</td>\n",
       "      <td>10</td>\n",
       "      <td>2</td>\n",
       "      <td>4</td>\n",
       "    </tr>\n",
       "    <tr>\n",
       "      <th>697</th>\n",
       "      <td>4</td>\n",
       "      <td>8</td>\n",
       "      <td>6</td>\n",
       "      <td>4</td>\n",
       "      <td>3</td>\n",
       "      <td>4</td>\n",
       "      <td>10</td>\n",
       "      <td>6</td>\n",
       "      <td>1</td>\n",
       "      <td>4</td>\n",
       "    </tr>\n",
       "    <tr>\n",
       "      <th>698</th>\n",
       "      <td>4</td>\n",
       "      <td>8</td>\n",
       "      <td>8</td>\n",
       "      <td>5</td>\n",
       "      <td>4</td>\n",
       "      <td>5</td>\n",
       "      <td>10</td>\n",
       "      <td>4</td>\n",
       "      <td>1</td>\n",
       "      <td>4</td>\n",
       "    </tr>\n",
       "  </tbody>\n",
       "</table>\n",
       "</div>"
      ],
      "text/plain": [
       "     Clump Thickness  Uniformity of Cell Size  Uniformity of Cell Shape  \\\n",
       "694                3                        1                         1   \n",
       "695                2                        1                         1   \n",
       "696                5                       10                        10   \n",
       "697                4                        8                         6   \n",
       "698                4                        8                         8   \n",
       "\n",
       "     Marginal Adhesion  Single Epithelial Cell Size Bare Nuclei  \\\n",
       "694                  1                            3           2   \n",
       "695                  1                            2           1   \n",
       "696                  3                            7           3   \n",
       "697                  4                            3           4   \n",
       "698                  5                            4           5   \n",
       "\n",
       "     Bland Chromatin  Normal Nucleoli  Mitoses  Class  \n",
       "694                1                1        1      2  \n",
       "695                1                1        1      2  \n",
       "696                8               10        2      4  \n",
       "697               10                6        1      4  \n",
       "698               10                4        1      4  "
      ]
     },
     "execution_count": 1332,
     "metadata": {},
     "output_type": "execute_result"
    }
   ],
   "source": [
    "df = df.drop(columns=['Sample code number'])\n",
    "df.tail(5)"
   ]
  },
  {
   "cell_type": "code",
   "execution_count": 1333,
   "metadata": {
    "colab": {
     "base_uri": "https://localhost:8080/"
    },
    "id": "0BXTxtf5lM7K",
    "outputId": "27f9a0ec-5cc5-41e2-9b13-42f35dd9db65"
   },
   "outputs": [
    {
     "data": {
      "text/plain": [
       "(699, 10)"
      ]
     },
     "execution_count": 1333,
     "metadata": {},
     "output_type": "execute_result"
    }
   ],
   "source": [
    "df.shape"
   ]
  },
  {
   "cell_type": "code",
   "execution_count": null,
   "metadata": {},
   "outputs": [],
   "source": []
  },
  {
   "cell_type": "code",
   "execution_count": 1334,
   "metadata": {
    "colab": {
     "base_uri": "https://localhost:8080/"
    },
    "id": "IIH1ctgxyRbk",
    "outputId": "065a0c89-55ec-44f9-fc3f-2c531e558384"
   },
   "outputs": [
    {
     "data": {
      "text/plain": [
       "Clump Thickness                 int64\n",
       "Uniformity of Cell Size         int64\n",
       "Uniformity of Cell Shape        int64\n",
       "Marginal Adhesion               int64\n",
       "Single Epithelial Cell Size     int64\n",
       "Bare Nuclei                    object\n",
       "Bland Chromatin                 int64\n",
       "Normal Nucleoli                 int64\n",
       "Mitoses                         int64\n",
       "Class                           int64\n",
       "dtype: object"
      ]
     },
     "execution_count": 1334,
     "metadata": {},
     "output_type": "execute_result"
    }
   ],
   "source": [
    "df.dtypes"
   ]
  },
  {
   "cell_type": "code",
   "execution_count": 1335,
   "metadata": {
    "colab": {
     "base_uri": "https://localhost:8080/"
    },
    "id": "5-JmNRZTyWqJ",
    "outputId": "69c01912-594b-4c30-a6c6-7fa32d690f1f"
   },
   "outputs": [
    {
     "name": "stdout",
     "output_type": "stream",
     "text": [
      "<class 'pandas.core.frame.DataFrame'>\n",
      "RangeIndex: 699 entries, 0 to 698\n",
      "Data columns (total 10 columns):\n",
      " #   Column                       Non-Null Count  Dtype \n",
      "---  ------                       --------------  ----- \n",
      " 0   Clump Thickness              699 non-null    int64 \n",
      " 1   Uniformity of Cell Size      699 non-null    int64 \n",
      " 2   Uniformity of Cell Shape     699 non-null    int64 \n",
      " 3   Marginal Adhesion            699 non-null    int64 \n",
      " 4   Single Epithelial Cell Size  699 non-null    int64 \n",
      " 5   Bare Nuclei                  699 non-null    object\n",
      " 6   Bland Chromatin              699 non-null    int64 \n",
      " 7   Normal Nucleoli              699 non-null    int64 \n",
      " 8   Mitoses                      699 non-null    int64 \n",
      " 9   Class                        699 non-null    int64 \n",
      "dtypes: int64(9), object(1)\n",
      "memory usage: 54.7+ KB\n"
     ]
    }
   ],
   "source": [
    "df.info()"
   ]
  },
  {
   "cell_type": "code",
   "execution_count": 1336,
   "metadata": {
    "colab": {
     "base_uri": "https://localhost:8080/",
     "height": 297
    },
    "id": "85tBpVM3yaII",
    "outputId": "2ea90a80-66dc-423f-8a2f-d04c9acd6f3c"
   },
   "outputs": [
    {
     "data": {
      "text/html": [
       "<div>\n",
       "<style scoped>\n",
       "    .dataframe tbody tr th:only-of-type {\n",
       "        vertical-align: middle;\n",
       "    }\n",
       "\n",
       "    .dataframe tbody tr th {\n",
       "        vertical-align: top;\n",
       "    }\n",
       "\n",
       "    .dataframe thead th {\n",
       "        text-align: right;\n",
       "    }\n",
       "</style>\n",
       "<table border=\"1\" class=\"dataframe\">\n",
       "  <thead>\n",
       "    <tr style=\"text-align: right;\">\n",
       "      <th></th>\n",
       "      <th>Clump Thickness</th>\n",
       "      <th>Uniformity of Cell Size</th>\n",
       "      <th>Uniformity of Cell Shape</th>\n",
       "      <th>Marginal Adhesion</th>\n",
       "      <th>Single Epithelial Cell Size</th>\n",
       "      <th>Bland Chromatin</th>\n",
       "      <th>Normal Nucleoli</th>\n",
       "      <th>Mitoses</th>\n",
       "      <th>Class</th>\n",
       "    </tr>\n",
       "  </thead>\n",
       "  <tbody>\n",
       "    <tr>\n",
       "      <th>count</th>\n",
       "      <td>699.000000</td>\n",
       "      <td>699.000000</td>\n",
       "      <td>699.000000</td>\n",
       "      <td>699.000000</td>\n",
       "      <td>699.000000</td>\n",
       "      <td>699.000000</td>\n",
       "      <td>699.000000</td>\n",
       "      <td>699.000000</td>\n",
       "      <td>699.000000</td>\n",
       "    </tr>\n",
       "    <tr>\n",
       "      <th>mean</th>\n",
       "      <td>4.417740</td>\n",
       "      <td>3.134478</td>\n",
       "      <td>3.207439</td>\n",
       "      <td>2.806867</td>\n",
       "      <td>3.216023</td>\n",
       "      <td>3.437768</td>\n",
       "      <td>2.866953</td>\n",
       "      <td>1.589413</td>\n",
       "      <td>2.689557</td>\n",
       "    </tr>\n",
       "    <tr>\n",
       "      <th>std</th>\n",
       "      <td>2.815741</td>\n",
       "      <td>3.051459</td>\n",
       "      <td>2.971913</td>\n",
       "      <td>2.855379</td>\n",
       "      <td>2.214300</td>\n",
       "      <td>2.438364</td>\n",
       "      <td>3.053634</td>\n",
       "      <td>1.715078</td>\n",
       "      <td>0.951273</td>\n",
       "    </tr>\n",
       "    <tr>\n",
       "      <th>min</th>\n",
       "      <td>1.000000</td>\n",
       "      <td>1.000000</td>\n",
       "      <td>1.000000</td>\n",
       "      <td>1.000000</td>\n",
       "      <td>1.000000</td>\n",
       "      <td>1.000000</td>\n",
       "      <td>1.000000</td>\n",
       "      <td>1.000000</td>\n",
       "      <td>2.000000</td>\n",
       "    </tr>\n",
       "    <tr>\n",
       "      <th>25%</th>\n",
       "      <td>2.000000</td>\n",
       "      <td>1.000000</td>\n",
       "      <td>1.000000</td>\n",
       "      <td>1.000000</td>\n",
       "      <td>2.000000</td>\n",
       "      <td>2.000000</td>\n",
       "      <td>1.000000</td>\n",
       "      <td>1.000000</td>\n",
       "      <td>2.000000</td>\n",
       "    </tr>\n",
       "    <tr>\n",
       "      <th>50%</th>\n",
       "      <td>4.000000</td>\n",
       "      <td>1.000000</td>\n",
       "      <td>1.000000</td>\n",
       "      <td>1.000000</td>\n",
       "      <td>2.000000</td>\n",
       "      <td>3.000000</td>\n",
       "      <td>1.000000</td>\n",
       "      <td>1.000000</td>\n",
       "      <td>2.000000</td>\n",
       "    </tr>\n",
       "    <tr>\n",
       "      <th>75%</th>\n",
       "      <td>6.000000</td>\n",
       "      <td>5.000000</td>\n",
       "      <td>5.000000</td>\n",
       "      <td>4.000000</td>\n",
       "      <td>4.000000</td>\n",
       "      <td>5.000000</td>\n",
       "      <td>4.000000</td>\n",
       "      <td>1.000000</td>\n",
       "      <td>4.000000</td>\n",
       "    </tr>\n",
       "    <tr>\n",
       "      <th>max</th>\n",
       "      <td>10.000000</td>\n",
       "      <td>10.000000</td>\n",
       "      <td>10.000000</td>\n",
       "      <td>10.000000</td>\n",
       "      <td>10.000000</td>\n",
       "      <td>10.000000</td>\n",
       "      <td>10.000000</td>\n",
       "      <td>10.000000</td>\n",
       "      <td>4.000000</td>\n",
       "    </tr>\n",
       "  </tbody>\n",
       "</table>\n",
       "</div>"
      ],
      "text/plain": [
       "       Clump Thickness  Uniformity of Cell Size  Uniformity of Cell Shape  \\\n",
       "count       699.000000               699.000000                699.000000   \n",
       "mean          4.417740                 3.134478                  3.207439   \n",
       "std           2.815741                 3.051459                  2.971913   \n",
       "min           1.000000                 1.000000                  1.000000   \n",
       "25%           2.000000                 1.000000                  1.000000   \n",
       "50%           4.000000                 1.000000                  1.000000   \n",
       "75%           6.000000                 5.000000                  5.000000   \n",
       "max          10.000000                10.000000                 10.000000   \n",
       "\n",
       "       Marginal Adhesion  Single Epithelial Cell Size  Bland Chromatin  \\\n",
       "count         699.000000                   699.000000       699.000000   \n",
       "mean            2.806867                     3.216023         3.437768   \n",
       "std             2.855379                     2.214300         2.438364   \n",
       "min             1.000000                     1.000000         1.000000   \n",
       "25%             1.000000                     2.000000         2.000000   \n",
       "50%             1.000000                     2.000000         3.000000   \n",
       "75%             4.000000                     4.000000         5.000000   \n",
       "max            10.000000                    10.000000        10.000000   \n",
       "\n",
       "       Normal Nucleoli     Mitoses       Class  \n",
       "count       699.000000  699.000000  699.000000  \n",
       "mean          2.866953    1.589413    2.689557  \n",
       "std           3.053634    1.715078    0.951273  \n",
       "min           1.000000    1.000000    2.000000  \n",
       "25%           1.000000    1.000000    2.000000  \n",
       "50%           1.000000    1.000000    2.000000  \n",
       "75%           4.000000    1.000000    4.000000  \n",
       "max          10.000000   10.000000    4.000000  "
      ]
     },
     "execution_count": 1336,
     "metadata": {},
     "output_type": "execute_result"
    }
   ],
   "source": [
    "df.describe()"
   ]
  },
  {
   "cell_type": "code",
   "execution_count": 1337,
   "metadata": {
    "colab": {
     "base_uri": "https://localhost:8080/"
    },
    "id": "wln8NO3_y3PN",
    "outputId": "0c34ad17-baea-49d4-c4f1-0e719df0b578"
   },
   "outputs": [
    {
     "data": {
      "text/plain": [
       "Clump Thickness                0.592859\n",
       "Uniformity of Cell Size        1.233137\n",
       "Uniformity of Cell Shape       1.161859\n",
       "Marginal Adhesion              1.524468\n",
       "Single Epithelial Cell Size    1.712172\n",
       "Bland Chromatin                1.099969\n",
       "Normal Nucleoli                1.422261\n",
       "Mitoses                        3.560658\n",
       "Class                          0.654564\n",
       "dtype: float64"
      ]
     },
     "execution_count": 1337,
     "metadata": {},
     "output_type": "execute_result"
    }
   ],
   "source": [
    "df.skew()"
   ]
  },
  {
   "cell_type": "code",
   "execution_count": null,
   "metadata": {
    "id": "M3D2s9rxy77I"
   },
   "outputs": [],
   "source": []
  },
  {
   "cell_type": "markdown",
   "metadata": {
    "id": "W11efB98zJ-5"
   },
   "source": [
    "# missing value check"
   ]
  },
  {
   "cell_type": "code",
   "execution_count": 1338,
   "metadata": {
    "colab": {
     "base_uri": "https://localhost:8080/"
    },
    "id": "rFsGKaE3zMOv",
    "outputId": "45172a50-8d10-4fce-bd16-c74554e8d60c"
   },
   "outputs": [
    {
     "data": {
      "text/plain": [
       "{'Clump Thickness': 0,\n",
       " 'Uniformity of Cell Size': 0,\n",
       " 'Uniformity of Cell Shape': 0,\n",
       " 'Marginal Adhesion': 0,\n",
       " 'Single Epithelial Cell Size': 0,\n",
       " 'Bare Nuclei': 16,\n",
       " 'Bland Chromatin': 0,\n",
       " 'Normal Nucleoli': 0,\n",
       " 'Mitoses': 0,\n",
       " 'Class': 0}"
      ]
     },
     "execution_count": 1338,
     "metadata": {},
     "output_type": "execute_result"
    }
   ],
   "source": [
    "m = {col:df[df[col] == \"?\"].shape[0] for col in df.columns}\n",
    "m"
   ]
  },
  {
   "cell_type": "code",
   "execution_count": 1339,
   "metadata": {
    "colab": {
     "base_uri": "https://localhost:8080/"
    },
    "id": "sYxPB_fmzOzi",
    "outputId": "bba66843-726b-4b96-f0a3-8b0dffc1e5dd"
   },
   "outputs": [
    {
     "data": {
      "text/plain": [
       "['1']"
      ]
     },
     "execution_count": 1339,
     "metadata": {},
     "output_type": "execute_result"
    }
   ],
   "source": [
    "list(df['Bare Nuclei'].mode())"
   ]
  },
  {
   "cell_type": "code",
   "execution_count": 1340,
   "metadata": {
    "id": "xRb0IqnPzvtx"
   },
   "outputs": [],
   "source": [
    "df.replace(to_replace =\"?\", value = 1 , inplace= True)"
   ]
  },
  {
   "cell_type": "code",
   "execution_count": 1341,
   "metadata": {
    "colab": {
     "base_uri": "https://localhost:8080/"
    },
    "id": "6PoYlyVzzv-T",
    "outputId": "8c0dd783-0745-4cab-f434-38c3965dba63"
   },
   "outputs": [
    {
     "data": {
      "text/plain": [
       "{'Clump Thickness': 0,\n",
       " 'Uniformity of Cell Size': 0,\n",
       " 'Uniformity of Cell Shape': 0,\n",
       " 'Marginal Adhesion': 0,\n",
       " 'Single Epithelial Cell Size': 0,\n",
       " 'Bare Nuclei': 0,\n",
       " 'Bland Chromatin': 0,\n",
       " 'Normal Nucleoli': 0,\n",
       " 'Mitoses': 0,\n",
       " 'Class': 0}"
      ]
     },
     "execution_count": 1341,
     "metadata": {},
     "output_type": "execute_result"
    }
   ],
   "source": [
    "m = {col:df[df[col] == \"?\"].shape[0] for col in df.columns}\n",
    "m"
   ]
  },
  {
   "cell_type": "code",
   "execution_count": 1342,
   "metadata": {
    "colab": {
     "base_uri": "https://localhost:8080/"
    },
    "id": "JOT5Id-EzwM4",
    "outputId": "5f73437c-043d-46af-da11-4a21d2232ab3"
   },
   "outputs": [
    {
     "data": {
      "text/plain": [
       "2    458\n",
       "4    241\n",
       "Name: Class, dtype: int64"
      ]
     },
     "execution_count": 1342,
     "metadata": {},
     "output_type": "execute_result"
    }
   ],
   "source": [
    "df['Class'].value_counts()"
   ]
  },
  {
   "cell_type": "code",
   "execution_count": null,
   "metadata": {
    "id": "E2P9qnoO0OFO"
   },
   "outputs": [],
   "source": []
  },
  {
   "cell_type": "markdown",
   "metadata": {
    "id": "DQxpjQkD0UbM"
   },
   "source": [
    "# Data visualization to create histogram"
   ]
  },
  {
   "cell_type": "code",
   "execution_count": 1343,
   "metadata": {
    "colab": {
     "base_uri": "https://localhost:8080/",
     "height": 111
    },
    "id": "mQHqGHle7V09",
    "outputId": "b708f80d-424c-40ff-f411-4ea945ae3bb0"
   },
   "outputs": [
    {
     "data": {
      "text/html": [
       "<div>\n",
       "<style scoped>\n",
       "    .dataframe tbody tr th:only-of-type {\n",
       "        vertical-align: middle;\n",
       "    }\n",
       "\n",
       "    .dataframe tbody tr th {\n",
       "        vertical-align: top;\n",
       "    }\n",
       "\n",
       "    .dataframe thead th {\n",
       "        text-align: right;\n",
       "    }\n",
       "</style>\n",
       "<table border=\"1\" class=\"dataframe\">\n",
       "  <thead>\n",
       "    <tr style=\"text-align: right;\">\n",
       "      <th></th>\n",
       "      <th>Clump Thickness</th>\n",
       "      <th>Uniformity of Cell Size</th>\n",
       "      <th>Uniformity of Cell Shape</th>\n",
       "      <th>Marginal Adhesion</th>\n",
       "      <th>Single Epithelial Cell Size</th>\n",
       "      <th>Bare Nuclei</th>\n",
       "      <th>Bland Chromatin</th>\n",
       "      <th>Normal Nucleoli</th>\n",
       "      <th>Mitoses</th>\n",
       "      <th>Class</th>\n",
       "    </tr>\n",
       "  </thead>\n",
       "  <tbody>\n",
       "    <tr>\n",
       "      <th>0</th>\n",
       "      <td>5</td>\n",
       "      <td>1</td>\n",
       "      <td>1</td>\n",
       "      <td>1</td>\n",
       "      <td>2</td>\n",
       "      <td>1</td>\n",
       "      <td>3</td>\n",
       "      <td>1</td>\n",
       "      <td>1</td>\n",
       "      <td>2</td>\n",
       "    </tr>\n",
       "    <tr>\n",
       "      <th>1</th>\n",
       "      <td>5</td>\n",
       "      <td>4</td>\n",
       "      <td>4</td>\n",
       "      <td>5</td>\n",
       "      <td>7</td>\n",
       "      <td>10</td>\n",
       "      <td>3</td>\n",
       "      <td>2</td>\n",
       "      <td>1</td>\n",
       "      <td>2</td>\n",
       "    </tr>\n",
       "  </tbody>\n",
       "</table>\n",
       "</div>"
      ],
      "text/plain": [
       "   Clump Thickness  Uniformity of Cell Size  Uniformity of Cell Shape  \\\n",
       "0                5                        1                         1   \n",
       "1                5                        4                         4   \n",
       "\n",
       "   Marginal Adhesion  Single Epithelial Cell Size Bare Nuclei  \\\n",
       "0                  1                            2           1   \n",
       "1                  5                            7          10   \n",
       "\n",
       "   Bland Chromatin  Normal Nucleoli  Mitoses  Class  \n",
       "0                3                1        1      2  \n",
       "1                3                2        1      2  "
      ]
     },
     "execution_count": 1343,
     "metadata": {},
     "output_type": "execute_result"
    }
   ],
   "source": [
    "df.head(2)"
   ]
  },
  {
   "cell_type": "code",
   "execution_count": null,
   "metadata": {},
   "outputs": [],
   "source": []
  },
  {
   "cell_type": "code",
   "execution_count": null,
   "metadata": {},
   "outputs": [],
   "source": []
  },
  {
   "cell_type": "code",
   "execution_count": 1344,
   "metadata": {
    "colab": {
     "base_uri": "https://localhost:8080/",
     "height": 335
    },
    "id": "8en3FXq00Vpq",
    "outputId": "dea09752-dab0-4b3a-be36-0fe9638930b7"
   },
   "outputs": [
    {
     "data": {
      "image/png": "[encoded data removed]",
      "text/plain": [
       "<Figure size 1000x500 with 1 Axes>"
      ]
     },
     "metadata": {},
     "output_type": "display_data"
    }
   ],
   "source": [
    "sns.set_style(\"white\")\n",
    "\n",
    "plt.rcParams['figure.figsize'] = (10,5) \n",
    "\n",
    "array = df.values\n",
    "X = array[:,0:8]\n",
    "y = array[:,9]\n",
    "le=LabelEncoder()\n",
    "y = le.fit_transform(y)\n",
    "\n",
    "\n",
    "scaler =StandardScaler()\n",
    "Xs = scaler.fit_transform(X)\n",
    "\n",
    "\n",
    "pca = PCA(n_components=8)\n",
    "fit = pca.fit(Xs)\n",
    "\n",
    "X_pca = pca.transform(Xs)\n",
    "\n",
    "PCA_df = pd.DataFrame()\n",
    "\n",
    "PCA_df['PCA_1'] = X_pca[:,0]\n",
    "PCA_df['PCA_2'] = X_pca[:,1]\n",
    "\n",
    "plt.plot(PCA_df['PCA_1'][df.Class == 2],PCA_df['PCA_2'][df.Class == 2],'o', alpha = 0.7, color = 'r')\n",
    "plt.plot(PCA_df['PCA_1'][df.Class == 4],PCA_df['PCA_2'][df.Class == 4],'o', alpha = 0.7, color = 'b')\n",
    "\n",
    "plt.xlabel('PCA_1')\n",
    "plt.ylabel('PCA_2')\n",
    "plt.legend(['Malignant','Benign'])\n",
    "plt.show()"
   ]
  },
  {
   "cell_type": "code",
   "execution_count": 1345,
   "metadata": {
    "colab": {
     "base_uri": "https://localhost:8080/",
     "height": 879
    },
    "id": "WzAgdMkM_Mdm",
    "outputId": "6a0753f5-3b99-4510-fa7d-f4e106a19a02"
   },
   "outputs": [],
   "source": [
    "#df.hist(bins=50, figsize=(15, 15))\n",
    "#plt.show()"
   ]
  },
  {
   "cell_type": "code",
   "execution_count": 1346,
   "metadata": {
    "colab": {
     "base_uri": "https://localhost:8080/",
     "height": 1000
    },
    "id": "PIpANBXa_bAA",
    "outputId": "6672a3c1-a8b4-4160-b74a-dae7284662ca"
   },
   "outputs": [],
   "source": [
    "# Scatter matrix to check correlation between two attributes\n",
    "#sns.pairplot(df, hue='Class')"
   ]
  },
  {
   "cell_type": "code",
   "execution_count": null,
   "metadata": {
    "id": "LxO1-f4F_euo"
   },
   "outputs": [],
   "source": []
  },
  {
   "cell_type": "code",
   "execution_count": 1347,
   "metadata": {
    "colab": {
     "base_uri": "https://localhost:8080/",
     "height": 334
    },
    "id": "-gL6AYqz_fPF",
    "outputId": "88859fb9-9e52-44e7-9f47-053cd709851b"
   },
   "outputs": [
    {
     "data": {
      "image/png": "[encoded data removed]",
      "text/plain": [
       "<Figure size 1000x500 with 1 Axes>"
      ]
     },
     "metadata": {},
     "output_type": "display_data"
    }
   ],
   "source": [
    "ax = sns.countplot(y='Class', data=df, palette='Set2')"
   ]
  },
  {
   "cell_type": "code",
   "execution_count": null,
   "metadata": {
    "id": "S3wnky1g_sAS"
   },
   "outputs": [],
   "source": []
  },
  {
   "cell_type": "markdown",
   "metadata": {
    "id": "o8YvKvgN_xhJ"
   },
   "source": [
    "# Finding correlation"
   ]
  },
  {
   "cell_type": "code",
   "execution_count": 1348,
   "metadata": {
    "colab": {
     "base_uri": "https://localhost:8080/",
     "height": 674
    },
    "id": "t5vu9-8Y_ygg",
    "outputId": "b6d12efe-f546-43de-c5cc-d6204e6a663a"
   },
   "outputs": [
    {
     "name": "stdout",
     "output_type": "stream",
     "text": [
      "Class\n",
      "2    458\n",
      "4    241\n",
      "dtype: int64\n"
     ]
    },
    {
     "data": {
      "image/png": "[encoded data removed]",
      "text/plain": [
       "<Figure size 1200x1000 with 2 Axes>"
      ]
     },
     "metadata": {},
     "output_type": "display_data"
    }
   ],
   "source": [
    "fig, ax = plt.subplots(figsize=(12, 10))\n",
    "sns.heatmap(df.corr(), ax=ax)\n",
    "\n",
    "print(df.groupby('Class').size())\n",
    "sns.countplot(df['Class'],label=\"Count\")\n",
    "plt.show()"
   ]
  },
  {
   "cell_type": "code",
   "execution_count": 1349,
   "metadata": {
    "id": "4P2HxMMz_1FW"
   },
   "outputs": [],
   "source": [
    "X = df.drop(columns=['Class'])\n",
    "y = df['Class']"
   ]
  },
  {
   "cell_type": "code",
   "execution_count": null,
   "metadata": {
    "id": "bKXGfSXdAAXf"
   },
   "outputs": [],
   "source": []
  },
  {
   "cell_type": "markdown",
   "metadata": {
    "id": "FIclHs4bAFvL"
   },
   "source": [
    "# Convert the M to 1 and B to 0"
   ]
  },
  {
   "cell_type": "code",
   "execution_count": 1350,
   "metadata": {
    "colab": {
     "base_uri": "https://localhost:8080/"
    },
    "id": "KvaDSGELAHCv",
    "outputId": "644ded7c-cea0-4c77-f722-b4205dd7b8c3"
   },
   "outputs": [
    {
     "data": {
      "text/plain": [
       "array([0, 0, 0, 0, 0, 1, 0, 0, 0, 0, 0, 0, 1, 0, 1, 1, 0, 0, 1, 0],\n",
       "      dtype=int64)"
      ]
     },
     "execution_count": 1350,
     "metadata": {},
     "output_type": "execute_result"
    }
   ],
   "source": [
    "label = LabelEncoder()\n",
    "y = label.fit_transform(y)\n",
    "y[:20]"
   ]
  },
  {
   "cell_type": "code",
   "execution_count": null,
   "metadata": {
    "id": "cHqPYcbZAKQu"
   },
   "outputs": [],
   "source": []
  },
  {
   "cell_type": "markdown",
   "metadata": {
    "id": "ESK2z5VwAOd-"
   },
   "source": [
    "# Split the dataset for traning and testing"
   ]
  },
  {
   "cell_type": "code",
   "execution_count": 1351,
   "metadata": {
    "colab": {
     "base_uri": "https://localhost:8080/"
    },
    "id": "tzT-FYP8APpM",
    "outputId": "f290c0a4-7deb-4ba5-90e2-767294faf017"
   },
   "outputs": [
    {
     "data": {
      "text/plain": [
       "((629, 9), (70, 9), (629,), (70,))"
      ]
     },
     "execution_count": 1351,
     "metadata": {},
     "output_type": "execute_result"
    }
   ],
   "source": [
    "X_train, X_test, y_train, y_test = train_test_split(X, y, test_size=0.1, random_state=101, shuffle=True)\n",
    "X_train.shape, X_test.shape, y_train.shape, y_test.shape"
   ]
  },
  {
   "cell_type": "code",
   "execution_count": null,
   "metadata": {},
   "outputs": [],
   "source": []
  },
  {
   "cell_type": "code",
   "execution_count": 1353,
   "metadata": {
    "id": "o1k1V8CVAToh"
   },
   "outputs": [],
   "source": [
    "from sklearn.preprocessing import StandardScaler\n",
    "scale = StandardScaler()\n",
    "X_train = scale.fit_transform(X_train)\n",
    "X_test = scale.fit_transform(X_test)"
   ]
  },
  {
   "cell_type": "markdown",
   "metadata": {
    "id": "y0o18i8bAaiy"
   },
   "source": [
    "# Model"
   ]
  },
  {
   "cell_type": "markdown",
   "metadata": {},
   "source": [
    "# Training Performance"
   ]
  },
  {
   "cell_type": "markdown",
   "metadata": {},
   "source": [
    "# Naive bayes"
   ]
  },
  {
   "cell_type": "markdown",
   "metadata": {
    "colab": {
     "base_uri": "https://localhost:8080/"
    },
    "id": "bzakYXQ8AeNe",
    "outputId": "44c83bb6-01d8-4390-b006-6e73784ae216"
   },
   "source": [
    "## Confusion matrix"
   ]
  },
  {
   "cell_type": "code",
   "execution_count": 1396,
   "metadata": {
    "id": "G1twuO9UBBnF",
    "scrolled": true
   },
   "outputs": [
    {
     "name": "stdout",
     "output_type": "stream",
     "text": [
      "[[396  21]\n",
      " [  6 206]]\n"
     ]
    }
   ],
   "source": [
    "NB_model = GaussianNB()\n",
    "NB_model.fit(X_train, y_train)\n",
    "NB_predict = NB_model.predict(X_train)\n",
    "print(confusion_matrix(y_train, NB_predict))"
   ]
  },
  {
   "cell_type": "markdown",
   "metadata": {},
   "source": [
    "## Accuracy"
   ]
  },
  {
   "cell_type": "code",
   "execution_count": 1397,
   "metadata": {
    "scrolled": true
   },
   "outputs": [
    {
     "name": "stdout",
     "output_type": "stream",
     "text": [
      "95.70747217806041 %\n"
     ]
    }
   ],
   "source": [
    "TP, FP, FN, TN = confusion_matrix(y_train, NB_predict).ravel()\n",
    "NB_accuracy = (TP + TN) / (TP + FP + FN + TN)\n",
    "print(NB_accuracy*100,\"%\")"
   ]
  },
  {
   "cell_type": "markdown",
   "metadata": {},
   "source": [
    "## Cross Validation"
   ]
  },
  {
   "cell_type": "code",
   "execution_count": 1399,
   "metadata": {},
   "outputs": [
    {
     "name": "stdout",
     "output_type": "stream",
     "text": [
      "95.70916538658473 %\n"
     ]
    }
   ],
   "source": [
    "kfold = KFold(n_splits=10, shuffle =True, random_state=101)\n",
    "NB_acc = cross_val_score(NB_model, X_train, y_train, cv=kfold, scoring='accuracy')\n",
    "print(NB_acc.mean()*100,'%')"
   ]
  },
  {
   "cell_type": "markdown",
   "metadata": {},
   "source": [
    "## \\# Precision # Recall or Sensitivity # Specificity # F1-Score # False Discovery Rate(FDR) # False Omission Rate(FOR)"
   ]
  },
  {
   "cell_type": "code",
   "execution_count": 1042,
   "metadata": {
    "scrolled": true
   },
   "outputs": [
    {
     "name": "stdout",
     "output_type": "stream",
     "text": [
      "Precision:  0.9496402877697842\n",
      "Recall or Sensitivity:  0.9850746268656716\n",
      "Specificity:  0.9074889867841409\n",
      "F1-Score:  0.9670329670329669\n",
      "False Discovery Rate(FDR):  0.050359712230215826\n",
      "False Omission Rate(FOR):  0.02830188679245283\n"
     ]
    }
   ],
   "source": [
    "TP, FP, FN, TN = confusion_matrix(y_train, NB_predict).ravel()\n",
    "precision = TP / (TP + FP)\n",
    "recall = TP / (TP + FN)\n",
    "specificity = TN / (TN + FP)\n",
    "F1_Score = ((2*precision*recall) / (precision + recall))\n",
    "FDR = FP / (FP + TP)\n",
    "FOR = FN / (FN + TN)\n",
    "\n",
    "print(\"Precision: \", precision)\n",
    "print(\"Recall or Sensitivity: \", recall)\n",
    "print(\"Specificity: \", specificity)\n",
    "print(\"F1-Score: \", F1_Score)\n",
    "print(\"False Discovery Rate(FDR): \", FDR)\n",
    "print(\"False Omission Rate(FOR): \", FOR)"
   ]
  },
  {
   "cell_type": "code",
   "execution_count": null,
   "metadata": {},
   "outputs": [],
   "source": []
  },
  {
   "cell_type": "markdown",
   "metadata": {},
   "source": [
    "# Logistic Regression"
   ]
  },
  {
   "cell_type": "markdown",
   "metadata": {},
   "source": [
    "## confusion_matrix"
   ]
  },
  {
   "cell_type": "code",
   "execution_count": 1325,
   "metadata": {},
   "outputs": [
    {
     "name": "stdout",
     "output_type": "stream",
     "text": [
      "[[406  11]\n",
      " [ 11 201]]\n"
     ]
    }
   ],
   "source": [
    "LR_model = LogisticRegression()\n",
    "\n",
    "LR_model.fit(X_train, y_train)\n",
    "LR_predict = LR_model.predict(X_train)\n",
    "print(confusion_matrix(y_train, LR_predict))"
   ]
  },
  {
   "cell_type": "markdown",
   "metadata": {},
   "source": [
    "## Accuracy"
   ]
  },
  {
   "cell_type": "code",
   "execution_count": 1044,
   "metadata": {},
   "outputs": [
    {
     "name": "stdout",
     "output_type": "stream",
     "text": [
      "96.50238473767885 %\n"
     ]
    }
   ],
   "source": [
    "TP, FP, FN, TN = confusion_matrix(y_train, LR_predict).ravel()\n",
    "LR_accuracy = (TP + TN) / (TP + FP + FN + TN)\n",
    "print(LR_accuracy*100,\"%\")"
   ]
  },
  {
   "cell_type": "markdown",
   "metadata": {},
   "source": [
    "## Cross Validation"
   ]
  },
  {
   "cell_type": "code",
   "execution_count": 1400,
   "metadata": {},
   "outputs": [
    {
     "name": "stdout",
     "output_type": "stream",
     "text": [
      "96.50281618023551 %\n"
     ]
    }
   ],
   "source": [
    "kfold = KFold(n_splits=10, shuffle=True, random_state=101)\n",
    "LR_acc = cross_val_score(LR_model, X_train, y_train, cv=kfold, scoring='accuracy')\n",
    "print(LR_acc.mean()*100,'%')"
   ]
  },
  {
   "cell_type": "markdown",
   "metadata": {},
   "source": [
    "## \\# Precision # Recall or Sensitivity # Specificity # F1-Score # False Discovery Rate(FDR) # False Omission Rate(FOR)"
   ]
  },
  {
   "cell_type": "code",
   "execution_count": 1046,
   "metadata": {},
   "outputs": [
    {
     "name": "stdout",
     "output_type": "stream",
     "text": [
      "Precision:  0.973621103117506\n",
      "Recall or Sensitivity:  0.973621103117506\n",
      "Specificity:  0.9481132075471698\n",
      "F1-Score:  0.973621103117506\n",
      "False Discovery Rate(FDR):  0.026378896882494004\n",
      "False Omission Rate(FOR):  0.05188679245283019\n"
     ]
    }
   ],
   "source": [
    "TP, FP, FN, TN = confusion_matrix(y_train, LR_predict).ravel()\n",
    "precision = TP / (TP + FP)\n",
    "recall = TP / (TP + FN)\n",
    "specificity = TN / (TN + FP)\n",
    "F1_Score = ((2*precision*recall) / (precision + recall))\n",
    "FDR = FP / (FP + TP)\n",
    "FOR = FN / (FN + TN)\n",
    "\n",
    "print(\"Precision: \", precision)\n",
    "print(\"Recall or Sensitivity: \", recall)\n",
    "print(\"Specificity: \", specificity)\n",
    "print(\"F1-Score: \", F1_Score)\n",
    "print(\"False Discovery Rate(FDR): \", FDR)\n",
    "print(\"False Omission Rate(FOR): \", FOR)"
   ]
  },
  {
   "cell_type": "markdown",
   "metadata": {},
   "source": [
    "# Decision TreeClassifier"
   ]
  },
  {
   "cell_type": "markdown",
   "metadata": {},
   "source": [
    "## Confusion Matrix"
   ]
  },
  {
   "cell_type": "code",
   "execution_count": 1047,
   "metadata": {},
   "outputs": [
    {
     "name": "stdout",
     "output_type": "stream",
     "text": [
      "[[394  23]\n",
      " [  1 211]]\n"
     ]
    }
   ],
   "source": [
    "DT_model = DecisionTreeClassifier(criterion=\"entropy\", max_depth=3)\n",
    "\n",
    "DT_model.fit(X_train, y_train)\n",
    "DT_predict = DT_model.predict(X_train)\n",
    "print(confusion_matrix(y_train, DT_predict))"
   ]
  },
  {
   "cell_type": "markdown",
   "metadata": {},
   "source": [
    "## Accuracy"
   ]
  },
  {
   "cell_type": "code",
   "execution_count": 1048,
   "metadata": {},
   "outputs": [
    {
     "name": "stdout",
     "output_type": "stream",
     "text": [
      "96.18441971383149 %\n"
     ]
    }
   ],
   "source": [
    "TP, FP, FN, TN = confusion_matrix(y_train, DT_predict).ravel()\n",
    "DT_accuracy = (TP + TN) / (TP + FP + FN + TN)\n",
    "print(DT_accuracy*100,\"%\")"
   ]
  },
  {
   "cell_type": "markdown",
   "metadata": {},
   "source": [
    "## Cross Validation"
   ]
  },
  {
   "cell_type": "code",
   "execution_count": 1049,
   "metadata": {},
   "outputs": [
    {
     "name": "stdout",
     "output_type": "stream",
     "text": [
      "95.23297491039425 %\n"
     ]
    }
   ],
   "source": [
    "kfold = StratifiedKFold(n_splits=10, shuffle=True, random_state=101)\n",
    "DT_acc = cross_val_score(DT_model, X_train, y_train, cv=kfold, scoring='accuracy')\n",
    "print(DT_acc.mean()*100,'%')"
   ]
  },
  {
   "cell_type": "markdown",
   "metadata": {},
   "source": [
    "## \\# Precision # Recall or Sensitivity # Specificity # F1-Score # False Discovery Rate(FDR) # False Omission Rate(FOR)"
   ]
  },
  {
   "cell_type": "code",
   "execution_count": 1050,
   "metadata": {},
   "outputs": [
    {
     "name": "stdout",
     "output_type": "stream",
     "text": [
      "Precision:  0.9448441247002398\n",
      "Recall or Sensitivity:  0.9974683544303797\n",
      "Specificity:  0.9017094017094017\n",
      "F1-Score:  0.9704433497536946\n",
      "False Discovery Rate(FDR):  0.05515587529976019\n",
      "False Omission Rate(FOR):  0.0047169811320754715\n"
     ]
    }
   ],
   "source": [
    "TP, FP, FN, TN = confusion_matrix(y_train, DT_predict).ravel()\n",
    "precision = TP / (TP + FP)\n",
    "recall = TP / (TP + FN)\n",
    "specificity = TN / (TN + FP)\n",
    "F1_Score = ((2*precision*recall) / (precision + recall))\n",
    "FDR = FP / (FP + TP)\n",
    "FOR = FN / (FN + TN)\n",
    "    \n",
    "print(\"Precision: \", precision)\n",
    "print(\"Recall or Sensitivity: \", recall)\n",
    "print(\"Specificity: \", specificity)\n",
    "print(\"F1-Score: \", F1_Score)\n",
    "print(\"False Discovery Rate(FDR): \", FDR)\n",
    "print(\"False Omission Rate(FOR): \", FOR)"
   ]
  },
  {
   "cell_type": "markdown",
   "metadata": {},
   "source": [
    "# support vector machines"
   ]
  },
  {
   "cell_type": "markdown",
   "metadata": {},
   "source": [
    "## Confusion Matrix"
   ]
  },
  {
   "cell_type": "code",
   "execution_count": 1381,
   "metadata": {},
   "outputs": [
    {
     "name": "stdout",
     "output_type": "stream",
     "text": [
      "[[404  13]\n",
      " [  4 208]]\n"
     ]
    }
   ],
   "source": [
    "SVM_model = SVC()\n",
    "\n",
    "SVM_model.fit(X_train, y_train)\n",
    "SVM_predict = SVM_model.predict(X_train)\n",
    "print(confusion_matrix(y_train, SVM_predict))"
   ]
  },
  {
   "cell_type": "markdown",
   "metadata": {},
   "source": [
    "## Accuracy"
   ]
  },
  {
   "cell_type": "code",
   "execution_count": 1379,
   "metadata": {},
   "outputs": [
    {
     "name": "stdout",
     "output_type": "stream",
     "text": [
      "97.2972972972973 %\n"
     ]
    }
   ],
   "source": [
    "TP, FP, FN, TN = confusion_matrix(y_train, SVM_predict).ravel()\n",
    "SVM_accuracy = (TP + TN) / (TP + FP + FN + TN)\n",
    "print(SVM_accuracy*100,\"%\")"
   ]
  },
  {
   "cell_type": "markdown",
   "metadata": {},
   "source": [
    "## Cross Validation"
   ]
  },
  {
   "cell_type": "code",
   "execution_count": 1053,
   "metadata": {},
   "outputs": [
    {
     "name": "stdout",
     "output_type": "stream",
     "text": [
      "96.50281618023551 %\n"
     ]
    }
   ],
   "source": [
    "kfold = KFold(n_splits=10, shuffle=True, random_state=101)\n",
    "SVM_acc = cross_val_score(SVM_model, X_train, y_train, cv=kfold, scoring='accuracy')\n",
    "print(SVM_acc.mean()*100,'%')"
   ]
  },
  {
   "cell_type": "markdown",
   "metadata": {},
   "source": [
    "## \\# Precision # Recall or Sensitivity # Specificity # F1-Score # False Discovery Rate(FDR) # False Omission Rate(FOR)"
   ]
  },
  {
   "cell_type": "code",
   "execution_count": 1054,
   "metadata": {},
   "outputs": [
    {
     "name": "stdout",
     "output_type": "stream",
     "text": [
      "Precision:  0.9688249400479616\n",
      "Recall or Sensitivity:  0.9901960784313726\n",
      "Specificity:  0.9411764705882353\n",
      "F1-Score:  0.9793939393939394\n",
      "False Discovery Rate(FDR):  0.03117505995203837\n",
      "False Omission Rate(FOR):  0.018867924528301886\n"
     ]
    }
   ],
   "source": [
    "TP, FP, FN, TN = confusion_matrix(y_train, SVM_predict).ravel()\n",
    "precision = TP / (TP + FP)\n",
    "recall = TP / (TP + FN)\n",
    "specificity = TN / (TN + FP)\n",
    "F1_Score = ((2*precision*recall) / (precision + recall))\n",
    "FDR = FP / (FP + TP)\n",
    "FOR = FN / (FN + TN)\n",
    "    \n",
    "print(\"Precision: \", precision)\n",
    "print(\"Recall or Sensitivity: \", recall)\n",
    "print(\"Specificity: \", specificity)\n",
    "print(\"F1-Score: \", F1_Score)\n",
    "print(\"False Discovery Rate(FDR): \", FDR)\n",
    "print(\"False Omission Rate(FOR): \", FOR)"
   ]
  },
  {
   "cell_type": "markdown",
   "metadata": {},
   "source": [
    "## Linear Discriminant Analysis"
   ]
  },
  {
   "cell_type": "markdown",
   "metadata": {},
   "source": [
    "## Confusion Matrix"
   ]
  },
  {
   "cell_type": "code",
   "execution_count": 1326,
   "metadata": {},
   "outputs": [
    {
     "name": "stdout",
     "output_type": "stream",
     "text": [
      "[[408   9]\n",
      " [ 18 194]]\n"
     ]
    }
   ],
   "source": [
    "LDA_model = LinearDiscriminantAnalysis()\n",
    "\n",
    "LDA_model.fit(X_train, y_train)\n",
    "LDA_predict = LDA_model.predict(X_train)\n",
    "print(confusion_matrix(y_train, LDA_predict))"
   ]
  },
  {
   "cell_type": "markdown",
   "metadata": {},
   "source": [
    "## Accuracy"
   ]
  },
  {
   "cell_type": "code",
   "execution_count": 1327,
   "metadata": {},
   "outputs": [
    {
     "name": "stdout",
     "output_type": "stream",
     "text": [
      "95.70747217806041 %\n"
     ]
    }
   ],
   "source": [
    "TP, FP, FN, TN = confusion_matrix(y_train, LDA_predict).ravel()\n",
    "LDA_accuracy = (TP + TN) / (TP + FP + FN + TN)\n",
    "print(LDA_accuracy*100,\"%\")"
   ]
  },
  {
   "cell_type": "markdown",
   "metadata": {},
   "source": [
    "## Cross Validation"
   ]
  },
  {
   "cell_type": "code",
   "execution_count": 1057,
   "metadata": {},
   "outputs": [
    {
     "name": "stdout",
     "output_type": "stream",
     "text": [
      "95.23041474654377 %\n"
     ]
    }
   ],
   "source": [
    "kfold = KFold(n_splits=10, shuffle=True, random_state=101)\n",
    "LDA_acc = cross_val_score(LDA_model, X_train, y_train, cv=kfold, scoring='accuracy')\n",
    "print(LDA_acc.mean()*100,'%')"
   ]
  },
  {
   "cell_type": "markdown",
   "metadata": {},
   "source": [
    "## \\# Precision # Recall or Sensitivity # Specificity # F1-Score # False Discovery Rate(FDR) # False Omission Rate(FOR)"
   ]
  },
  {
   "cell_type": "code",
   "execution_count": 1058,
   "metadata": {},
   "outputs": [
    {
     "name": "stdout",
     "output_type": "stream",
     "text": [
      "Precision:  0.9784172661870504\n",
      "Recall or Sensitivity:  0.9577464788732394\n",
      "Specificity:  0.9556650246305419\n",
      "F1-Score:  0.9679715302491103\n",
      "False Discovery Rate(FDR):  0.02158273381294964\n",
      "False Omission Rate(FOR):  0.08490566037735849\n"
     ]
    }
   ],
   "source": [
    "TP, FP, FN, TN = confusion_matrix(y_train, LDA_predict).ravel()\n",
    "precision = TP / (TP + FP)\n",
    "recall = TP / (TP + FN)\n",
    "specificity = TN / (TN + FP)\n",
    "F1_Score = ((2*precision*recall) / (precision + recall))\n",
    "FDR = FP / (FP + TP)\n",
    "FOR = FN / (FN + TN)\n",
    "    \n",
    "print(\"Precision: \", precision)\n",
    "print(\"Recall or Sensitivity: \", recall)\n",
    "print(\"Specificity: \", specificity)\n",
    "print(\"F1-Score: \", F1_Score)\n",
    "print(\"False Discovery Rate(FDR): \", FDR)\n",
    "print(\"False Omission Rate(FOR): \", FOR)"
   ]
  },
  {
   "cell_type": "markdown",
   "metadata": {},
   "source": [
    "## KNeighborsClassifier"
   ]
  },
  {
   "cell_type": "markdown",
   "metadata": {},
   "source": [
    "## Confusion Matrix"
   ]
  },
  {
   "cell_type": "code",
   "execution_count": 1328,
   "metadata": {},
   "outputs": [
    {
     "name": "stdout",
     "output_type": "stream",
     "text": [
      "[[406  11]\n",
      " [  6 206]]\n"
     ]
    }
   ],
   "source": [
    "KN_model = KNeighborsClassifier()\n",
    "\n",
    "KN_model.fit(X_train, y_train)\n",
    "KN_predict = KN_model.predict(X_train)\n",
    "print(confusion_matrix(y_train, KN_predict))"
   ]
  },
  {
   "cell_type": "markdown",
   "metadata": {},
   "source": [
    "## Accuracy"
   ]
  },
  {
   "cell_type": "code",
   "execution_count": 1060,
   "metadata": {},
   "outputs": [
    {
     "name": "stdout",
     "output_type": "stream",
     "text": [
      "97.2972972972973 %\n"
     ]
    }
   ],
   "source": [
    "TP, FP, FN, TN = confusion_matrix(y_train, KN_predict).ravel()\n",
    "KN_accuracy = (TP + TN) / (TP + FP + FN + TN)\n",
    "print(KN_accuracy*100,\"%\")"
   ]
  },
  {
   "cell_type": "markdown",
   "metadata": {},
   "source": [
    "## Cross Validation"
   ]
  },
  {
   "cell_type": "code",
   "execution_count": 1061,
   "metadata": {},
   "outputs": [
    {
     "name": "stdout",
     "output_type": "stream",
     "text": [
      "97.14029697900666 %\n"
     ]
    }
   ],
   "source": [
    "kfold = KFold(n_splits=10, shuffle=True, random_state=101)\n",
    "KN_acc = cross_val_score(KN_model, X_train, y_train, cv=kfold, scoring='accuracy')\n",
    "print(KN_acc.mean()*100,'%')"
   ]
  },
  {
   "cell_type": "markdown",
   "metadata": {},
   "source": [
    "## \\# Precision # Recall or Sensitivity # Specificity # F1-Score # False Discovery Rate(FDR) # False Omission Rate(FOR)"
   ]
  },
  {
   "cell_type": "code",
   "execution_count": 1062,
   "metadata": {},
   "outputs": [
    {
     "name": "stdout",
     "output_type": "stream",
     "text": [
      "Precision:  0.973621103117506\n",
      "Recall or Sensitivity:  0.9854368932038835\n",
      "Specificity:  0.9493087557603687\n",
      "F1-Score:  0.9794933655006033\n",
      "False Discovery Rate(FDR):  0.026378896882494004\n",
      "False Omission Rate(FOR):  0.02830188679245283\n"
     ]
    }
   ],
   "source": [
    "TP, FP, FN, TN = confusion_matrix(y_train, KN_predict).ravel()\n",
    "precision = TP / (TP + FP)\n",
    "recall = TP / (TP + FN)\n",
    "specificity = TN / (TN + FP)\n",
    "F1_Score = ((2*precision*recall) / (precision + recall))\n",
    "FDR = FP / (FP + TP)\n",
    "FOR = FN / (FN + TN)\n",
    "    \n",
    "print(\"Precision: \", precision)\n",
    "print(\"Recall or Sensitivity: \", recall)\n",
    "print(\"Specificity: \", specificity)\n",
    "print(\"F1-Score: \", F1_Score)\n",
    "print(\"False Discovery Rate(FDR): \", FDR)\n",
    "print(\"False Omission Rate(FOR): \", FOR)"
   ]
  },
  {
   "cell_type": "markdown",
   "metadata": {},
   "source": [
    "# AdaBoost Classifier"
   ]
  },
  {
   "cell_type": "markdown",
   "metadata": {},
   "source": [
    "## Confussion Matrix"
   ]
  },
  {
   "cell_type": "code",
   "execution_count": 1063,
   "metadata": {},
   "outputs": [
    {
     "name": "stdout",
     "output_type": "stream",
     "text": [
      "[[410   7]\n",
      " [  5 207]]\n"
     ]
    }
   ],
   "source": [
    "AB_model = AdaBoostClassifier()\n",
    "\n",
    "AB_model.fit(X_train, y_train)\n",
    "AB_predict = AB_model.predict(X_train)\n",
    "print(confusion_matrix(y_train, AB_predict))"
   ]
  },
  {
   "cell_type": "markdown",
   "metadata": {},
   "source": [
    "## Accuracy"
   ]
  },
  {
   "cell_type": "code",
   "execution_count": 1064,
   "metadata": {},
   "outputs": [
    {
     "name": "stdout",
     "output_type": "stream",
     "text": [
      "98.09220985691573 %\n"
     ]
    }
   ],
   "source": [
    "TP, FP, FN, TN = confusion_matrix(y_train, AB_predict).ravel()\n",
    "AB_accuracy = (TP + TN) / (TP + FP + FN + TN)\n",
    "print(AB_accuracy*100,\"%\")"
   ]
  },
  {
   "cell_type": "markdown",
   "metadata": {},
   "source": [
    "## Cross Validation"
   ]
  },
  {
   "cell_type": "code",
   "execution_count": 1065,
   "metadata": {},
   "outputs": [
    {
     "name": "stdout",
     "output_type": "stream",
     "text": [
      "95.70916538658473 %\n"
     ]
    }
   ],
   "source": [
    "kfold = KFold(n_splits=10, shuffle=True, random_state=101)\n",
    "AB_acc = cross_val_score(AB_model, X_train, y_train, cv=kfold, scoring='accuracy')\n",
    "print(AB_acc.mean()*100,'%')"
   ]
  },
  {
   "cell_type": "markdown",
   "metadata": {},
   "source": [
    "## \\# Precision # Recall or Sensitivity # Specificity # F1-Score # False Discovery Rate(FDR) # False Omission Rate(FOR)"
   ]
  },
  {
   "cell_type": "code",
   "execution_count": 1066,
   "metadata": {},
   "outputs": [
    {
     "name": "stdout",
     "output_type": "stream",
     "text": [
      "Precision:  0.9832134292565947\n",
      "Recall or Sensitivity:  0.9879518072289156\n",
      "Specificity:  0.9672897196261683\n",
      "F1-Score:  0.985576923076923\n",
      "False Discovery Rate(FDR):  0.016786570743405275\n",
      "False Omission Rate(FOR):  0.02358490566037736\n"
     ]
    }
   ],
   "source": [
    "TP, FP, FN, TN = confusion_matrix(y_train, AB_predict).ravel()\n",
    "precision = TP / (TP + FP)\n",
    "recall = TP / (TP + FN)\n",
    "specificity = TN / (TN + FP)\n",
    "F1_Score = ((2*precision*recall) / (precision + recall))\n",
    "FDR = FP / (FP + TP)\n",
    "FOR = FN / (FN + TN)\n",
    "    \n",
    "print(\"Precision: \", precision)\n",
    "print(\"Recall or Sensitivity: \", recall)\n",
    "print(\"Specificity: \", specificity)\n",
    "print(\"F1-Score: \", F1_Score)\n",
    "print(\"False Discovery Rate(FDR): \", FDR)\n",
    "print(\"False Omission Rate(FOR): \", FOR)"
   ]
  },
  {
   "cell_type": "markdown",
   "metadata": {},
   "source": [
    "# Random Forest Classifier"
   ]
  },
  {
   "cell_type": "markdown",
   "metadata": {},
   "source": [
    "## Confussion Matrix"
   ]
  },
  {
   "cell_type": "code",
   "execution_count": 1067,
   "metadata": {},
   "outputs": [
    {
     "name": "stdout",
     "output_type": "stream",
     "text": [
      "[[417   0]\n",
      " [  0 212]]\n"
     ]
    }
   ],
   "source": [
    "RF_model = RandomForestClassifier()\n",
    "\n",
    "RF_model.fit(X_train, y_train)\n",
    "RF_predict = RF_model.predict(X_train)\n",
    "print(confusion_matrix(y_train, RF_predict))"
   ]
  },
  {
   "cell_type": "markdown",
   "metadata": {},
   "source": [
    "## Accuracy"
   ]
  },
  {
   "cell_type": "code",
   "execution_count": 1068,
   "metadata": {},
   "outputs": [
    {
     "name": "stdout",
     "output_type": "stream",
     "text": [
      "100.0 %\n"
     ]
    }
   ],
   "source": [
    "TP, FP, FN, TN = confusion_matrix(y_train, RF_predict).ravel()\n",
    "RF_accuracy = (TP + TN) / (TP + FP + FN + TN)\n",
    "print(RF_accuracy*100,\"%\")"
   ]
  },
  {
   "cell_type": "markdown",
   "metadata": {},
   "source": [
    "## Cross Validation"
   ]
  },
  {
   "cell_type": "code",
   "execution_count": 1401,
   "metadata": {},
   "outputs": [
    {
     "name": "stdout",
     "output_type": "stream",
     "text": [
      "96.18023553507425 %\n"
     ]
    }
   ],
   "source": [
    "kfold = KFold(n_splits=10, shuffle=True, random_state=101)\n",
    "RF_acc = cross_val_score(RF_model, X_train, y_train, cv=kfold, scoring='accuracy')\n",
    "print(RF_acc.mean()*100,'%')"
   ]
  },
  {
   "cell_type": "markdown",
   "metadata": {},
   "source": [
    "## \\# Precision # Recall or Sensitivity # Specificity # F1-Score # False Discovery Rate(FDR) # False Omission Rate(FOR)"
   ]
  },
  {
   "cell_type": "code",
   "execution_count": 1070,
   "metadata": {},
   "outputs": [
    {
     "name": "stdout",
     "output_type": "stream",
     "text": [
      "Precision:  1.0\n",
      "Recall or Sensitivity:  1.0\n",
      "Specificity:  1.0\n",
      "F1-Score:  1.0\n",
      "False Discovery Rate(FDR):  0.0\n",
      "False Omission Rate(FOR):  0.0\n"
     ]
    }
   ],
   "source": [
    "TP, FP, FN, TN = confusion_matrix(y_train, RF_predict).ravel()\n",
    "precision = TP / (TP + FP)\n",
    "recall = TP / (TP + FN)\n",
    "specificity = TN / (TN + FP)\n",
    "F1_Score = ((2*precision*recall) / (precision + recall))\n",
    "FDR = FP / (FP + TP)\n",
    "FOR = FN / (FN + TN)\n",
    "\n",
    "print(\"Precision: \", precision)\n",
    "print(\"Recall or Sensitivity: \", recall)\n",
    "print(\"Specificity: \", specificity)\n",
    "print(\"F1-Score: \", F1_Score)\n",
    "print(\"False Discovery Rate(FDR): \", FDR)\n",
    "print(\"False Omission Rate(FOR): \", FOR)"
   ]
  },
  {
   "cell_type": "markdown",
   "metadata": {},
   "source": [
    "# Voting Classifier"
   ]
  },
  {
   "cell_type": "markdown",
   "metadata": {},
   "source": [
    "## Confussion Matrix"
   ]
  },
  {
   "cell_type": "code",
   "execution_count": 1071,
   "metadata": {},
   "outputs": [
    {
     "name": "stdout",
     "output_type": "stream",
     "text": [
      "[[411   6]\n",
      " [  5 207]]\n"
     ]
    }
   ],
   "source": [
    "VC_model = VotingClassifier(estimators=[('ab',AdaBoostClassifier()),('lr',LogisticRegression()),\n",
    "                                        ('rf',RandomForestClassifier()),('svm',SVC())],voting='hard')\n",
    "\n",
    "VC_model.fit(X_train, y_train)\n",
    "VC_predict = VC_model.predict(X_train)\n",
    "print(confusion_matrix(y_train, VC_predict))"
   ]
  },
  {
   "cell_type": "markdown",
   "metadata": {},
   "source": [
    "## Accuracy"
   ]
  },
  {
   "cell_type": "code",
   "execution_count": 1072,
   "metadata": {},
   "outputs": [
    {
     "name": "stdout",
     "output_type": "stream",
     "text": [
      "98.25119236883943 %\n"
     ]
    }
   ],
   "source": [
    "TP, FP, FN, TN = confusion_matrix(y_train, VC_predict).ravel()\n",
    "VC_accuracy = (TP + TN) / (TP + FP + FN + TN)\n",
    "print(VC_accuracy*100,\"%\")"
   ]
  },
  {
   "cell_type": "markdown",
   "metadata": {},
   "source": [
    "## Cross Validation"
   ]
  },
  {
   "cell_type": "code",
   "execution_count": 1073,
   "metadata": {},
   "outputs": [
    {
     "name": "stdout",
     "output_type": "stream",
     "text": [
      "96.66154633896568 %\n"
     ]
    }
   ],
   "source": [
    "kfold = KFold(n_splits=10, shuffle=True, random_state=101)\n",
    "VC_acc = cross_val_score(VC_model, X_train, y_train, cv=kfold, scoring='accuracy')\n",
    "print(VC_acc.mean()*100,'%')"
   ]
  },
  {
   "cell_type": "markdown",
   "metadata": {},
   "source": [
    "## \\# Precision # Recall or Sensitivity # Specificity # F1-Score # False Discovery Rate(FDR) # False Omission Rate(FOR)"
   ]
  },
  {
   "cell_type": "code",
   "execution_count": 1074,
   "metadata": {},
   "outputs": [
    {
     "name": "stdout",
     "output_type": "stream",
     "text": [
      "Precision:  0.9856115107913669\n",
      "Recall or Sensitivity:  0.9879807692307693\n",
      "Specificity:  0.971830985915493\n",
      "F1-Score:  0.9867947178871549\n",
      "False Discovery Rate(FDR):  0.014388489208633094\n",
      "False Omission Rate(FOR):  0.02358490566037736\n"
     ]
    }
   ],
   "source": [
    "TP, FP, FN, TN = confusion_matrix(y_train, VC_predict).ravel()\n",
    "precision = TP / (TP + FP)\n",
    "recall = TP / (TP + FN)\n",
    "specificity = TN / (TN + FP)\n",
    "F1_Score = ((2*precision*recall) / (precision + recall))\n",
    "FDR = FP / (FP + TP)\n",
    "FOR = FN / (FN + TN)\n",
    "    \n",
    "print(\"Precision: \", precision)\n",
    "print(\"Recall or Sensitivity: \", recall)\n",
    "print(\"Specificity: \", specificity)\n",
    "print(\"F1-Score: \", F1_Score)\n",
    "print(\"False Discovery Rate(FDR): \", FDR)\n",
    "print(\"False Omission Rate(FOR): \", FOR)"
   ]
  },
  {
   "cell_type": "markdown",
   "metadata": {},
   "source": [
    "# Stochastic Gradient Descent"
   ]
  },
  {
   "cell_type": "markdown",
   "metadata": {},
   "source": [
    "## Confussion Matrix"
   ]
  },
  {
   "cell_type": "code",
   "execution_count": 1245,
   "metadata": {},
   "outputs": [
    {
     "name": "stdout",
     "output_type": "stream",
     "text": [
      "[[404  13]\n",
      " [  6 206]]\n"
     ]
    }
   ],
   "source": [
    "SGD_model = SGDClassifier(max_iter=100)\n",
    "\n",
    "SGD_model.fit(X_train, y_train)\n",
    "SGD_predict = SGD_model.predict(X_train)\n",
    "print(confusion_matrix(y_train, SGD_predict))"
   ]
  },
  {
   "cell_type": "markdown",
   "metadata": {},
   "source": [
    "## Accuracy"
   ]
  },
  {
   "cell_type": "code",
   "execution_count": 1246,
   "metadata": {},
   "outputs": [
    {
     "name": "stdout",
     "output_type": "stream",
     "text": [
      "96.97933227344993 %\n"
     ]
    }
   ],
   "source": [
    "TP, FP, FN, TN = confusion_matrix(y_train, SGD_predict).ravel()\n",
    "SGD_accuracy = (TP + TN) / (TP + FP + FN + TN)\n",
    "print(SGD_accuracy*100,\"%\")"
   ]
  },
  {
   "cell_type": "markdown",
   "metadata": {},
   "source": [
    "## Cross Validation"
   ]
  },
  {
   "cell_type": "code",
   "execution_count": 1247,
   "metadata": {},
   "outputs": [
    {
     "name": "stdout",
     "output_type": "stream",
     "text": [
      "95.88172043010753 %\n"
     ]
    }
   ],
   "source": [
    "kfold = RepeatedStratifiedKFold(n_splits=10, random_state=101)\n",
    "SGD_acc = cross_val_score(SGD_model, X_train, y_train, cv=kfold, scoring='accuracy')\n",
    "print(SGD_acc.mean()*100,'%')"
   ]
  },
  {
   "cell_type": "markdown",
   "metadata": {},
   "source": [
    "## \\# Precision # Recall or Sensitivity # Specificity # F1-Score # False Discovery Rate(FDR) # False Omission Rate(FOR)"
   ]
  },
  {
   "cell_type": "code",
   "execution_count": 1229,
   "metadata": {},
   "outputs": [
    {
     "name": "stdout",
     "output_type": "stream",
     "text": [
      "Precision:  0.9712230215827338\n",
      "Recall or Sensitivity:  0.9830097087378641\n",
      "Specificity:  0.9447004608294931\n",
      "F1-Score:  0.9770808202653799\n",
      "False Discovery Rate(FDR):  0.02877697841726619\n",
      "False Omission Rate(FOR):  0.0330188679245283\n"
     ]
    }
   ],
   "source": [
    "TP, FP, FN, TN = confusion_matrix(y_train, SGD_predict).ravel()\n",
    "precision = TP / (TP + FP)\n",
    "recall = TP / (TP + FN)\n",
    "specificity = TN / (TN + FP)\n",
    "F1_Score = ((2*precision*recall) / (precision + recall))\n",
    "FDR = FP / (FP + TP)\n",
    "FOR = FN / (FN + TN)\n",
    "\n",
    "print(\"Precision: \", precision)\n",
    "print(\"Recall or Sensitivity: \", recall)\n",
    "print(\"Specificity: \", specificity)\n",
    "print(\"F1-Score: \", F1_Score)\n",
    "print(\"False Discovery Rate(FDR): \", FDR)\n",
    "print(\"False Omission Rate(FOR): \", FOR)"
   ]
  },
  {
   "cell_type": "markdown",
   "metadata": {},
   "source": [
    "# Bagging Classifier"
   ]
  },
  {
   "cell_type": "markdown",
   "metadata": {},
   "source": [
    "# Confussion Matrix"
   ]
  },
  {
   "cell_type": "code",
   "execution_count": 1079,
   "metadata": {},
   "outputs": [
    {
     "name": "stdout",
     "output_type": "stream",
     "text": [
      "[[410   7]\n",
      " [  1 211]]\n"
     ]
    }
   ],
   "source": [
    "BC_model = BaggingClassifier(base_estimator = RandomForestClassifier(), n_estimators = 100) # our contribution is base_estimator\n",
    "\n",
    "BC_model.fit(X_train, y_train)\n",
    "BC_predict = BC_model.predict(X_train)\n",
    "print(confusion_matrix(y_train, BC_predict))"
   ]
  },
  {
   "cell_type": "markdown",
   "metadata": {},
   "source": [
    "# Accuracy"
   ]
  },
  {
   "cell_type": "code",
   "execution_count": 1080,
   "metadata": {},
   "outputs": [
    {
     "name": "stdout",
     "output_type": "stream",
     "text": [
      "98.72813990461049 %\n"
     ]
    }
   ],
   "source": [
    "TP, FP, FN, TN = confusion_matrix(y_train, BC_predict).ravel()\n",
    "BC_accuracy = (TP + TN) / (TP + FP + FN + TN)\n",
    "print(BC_accuracy*100,\"%\")"
   ]
  },
  {
   "cell_type": "markdown",
   "metadata": {},
   "source": [
    "# Cross Validation"
   ]
  },
  {
   "cell_type": "code",
   "execution_count": 1081,
   "metadata": {},
   "outputs": [
    {
     "name": "stdout",
     "output_type": "stream",
     "text": [
      "97.29902713773681 %\n"
     ]
    }
   ],
   "source": [
    "kfold = KFold(n_splits=10, shuffle=True, random_state=101)\n",
    "BC_acc = cross_val_score(BC_model, X_train, y_train, cv=kfold, scoring='accuracy')\n",
    "print(BC_acc.mean()*100,'%')"
   ]
  },
  {
   "cell_type": "markdown",
   "metadata": {},
   "source": [
    "# \\# Precision # Recall or Sensitivity # Specificity # F1-Score # False Discovery Rate(FDR) # False Omission Rate(FOR)"
   ]
  },
  {
   "cell_type": "code",
   "execution_count": 1082,
   "metadata": {},
   "outputs": [
    {
     "name": "stdout",
     "output_type": "stream",
     "text": [
      "Precision:  0.9832134292565947\n",
      "Recall or Sensitivity:  0.9975669099756691\n",
      "Specificity:  0.9678899082568807\n",
      "F1-Score:  0.9903381642512077\n",
      "False Discovery Rate(FDR):  0.016786570743405275\n",
      "False Omission Rate(FOR):  0.0047169811320754715\n"
     ]
    }
   ],
   "source": [
    "TP, FP, FN, TN = confusion_matrix(y_train, BC_predict).ravel()\n",
    "precision = TP / (TP + FP)\n",
    "recall = TP / (TP + FN)\n",
    "specificity = TN / (TN + FP)\n",
    "F1_Score = ((2*precision*recall) / (precision + recall))\n",
    "FDR = FP / (FP + TP)\n",
    "FOR = FN / (FN + TN)\n",
    "\n",
    "print(\"Precision: \", precision)\n",
    "print(\"Recall or Sensitivity: \", recall)\n",
    "print(\"Specificity: \", specificity)\n",
    "print(\"F1-Score: \", F1_Score)\n",
    "print(\"False Discovery Rate(FDR): \", FDR)\n",
    "print(\"False Omission Rate(FOR): \", FOR)"
   ]
  },
  {
   "cell_type": "markdown",
   "metadata": {},
   "source": [
    "# Gradient Boosting Classifier"
   ]
  },
  {
   "cell_type": "markdown",
   "metadata": {},
   "source": [
    "# Confussion Matrix"
   ]
  },
  {
   "cell_type": "code",
   "execution_count": 1083,
   "metadata": {},
   "outputs": [
    {
     "name": "stdout",
     "output_type": "stream",
     "text": [
      "[[417   0]\n",
      " [  0 212]]\n"
     ]
    }
   ],
   "source": [
    "GB_model = GradientBoostingClassifier()\n",
    "\n",
    "GB_model.fit(X_train, y_train)\n",
    "GB_predict = GB_model.predict(X_train)\n",
    "print(confusion_matrix(y_train, GB_predict))"
   ]
  },
  {
   "cell_type": "markdown",
   "metadata": {},
   "source": [
    "# Accuracy"
   ]
  },
  {
   "cell_type": "code",
   "execution_count": 1084,
   "metadata": {},
   "outputs": [
    {
     "name": "stdout",
     "output_type": "stream",
     "text": [
      "100.0 %\n"
     ]
    }
   ],
   "source": [
    "TP, FP, FN, TN = confusion_matrix(y_train, GB_predict).ravel()\n",
    "GB_accuracy = (TP + TN) / (TP + FP + FN + TN)\n",
    "print(GB_accuracy*100,\"%\")"
   ]
  },
  {
   "cell_type": "markdown",
   "metadata": {},
   "source": [
    "# Cross Validation"
   ]
  },
  {
   "cell_type": "code",
   "execution_count": 1085,
   "metadata": {},
   "outputs": [
    {
     "name": "stdout",
     "output_type": "stream",
     "text": [
      "96.18791602662571 %\n"
     ]
    }
   ],
   "source": [
    "kfold = KFold(n_splits=10, shuffle=True, random_state=101)\n",
    "GB_acc = cross_val_score(GB_model, X_train, y_train, cv=kfold, scoring='accuracy')\n",
    "print(GB_acc.mean()*100,'%')"
   ]
  },
  {
   "cell_type": "markdown",
   "metadata": {},
   "source": [
    "# \\# Precision # Recall or Sensitivity # Specificity # F1-Score # False Discovery Rate(FDR) # False Omission Rate(FOR)"
   ]
  },
  {
   "cell_type": "code",
   "execution_count": 1086,
   "metadata": {},
   "outputs": [
    {
     "name": "stdout",
     "output_type": "stream",
     "text": [
      "Precision:  1.0\n",
      "Recall or Sensitivity:  1.0\n",
      "Specificity:  1.0\n",
      "F1-Score:  1.0\n",
      "False Discovery Rate(FDR):  0.0\n",
      "False Omission Rate(FOR):  0.0\n"
     ]
    }
   ],
   "source": [
    "TP, FP, FN, TN = confusion_matrix(y_train, GB_predict).ravel()\n",
    "precision = TP / (TP + FP)\n",
    "recall = TP / (TP + FN)\n",
    "specificity = TN / (TN + FP)\n",
    "F1_Score = ((2*precision*recall) / (precision + recall))\n",
    "FDR = FP / (FP + TP)\n",
    "FOR = FN / (FN + TN)\n",
    "    \n",
    "print(\"Precision: \", precision)\n",
    "print(\"Recall or Sensitivity: \", recall)\n",
    "print(\"Specificity: \", specificity)\n",
    "print(\"F1-Score: \", F1_Score)\n",
    "print(\"False Discovery Rate(FDR): \", FDR)\n",
    "print(\"False Omission Rate(FOR): \", FOR)"
   ]
  },
  {
   "cell_type": "code",
   "execution_count": null,
   "metadata": {},
   "outputs": [],
   "source": []
  },
  {
   "cell_type": "markdown",
   "metadata": {},
   "source": [
    "# Testing Performance"
   ]
  },
  {
   "cell_type": "markdown",
   "metadata": {},
   "source": [
    "# Naive bayes"
   ]
  },
  {
   "cell_type": "markdown",
   "metadata": {},
   "source": [
    "# confusion_matrix"
   ]
  },
  {
   "cell_type": "code",
   "execution_count": 1354,
   "metadata": {
    "scrolled": true
   },
   "outputs": [
    {
     "name": "stdout",
     "output_type": "stream",
     "text": [
      "[[40  1]\n",
      " [ 0 29]]\n"
     ]
    }
   ],
   "source": [
    "NB_model = GaussianNB()\n",
    "NB_model.fit(X_train, y_train)\n",
    "NB_predict = NB_model.predict(X_test)\n",
    "print(confusion_matrix(y_test, NB_predict))"
   ]
  },
  {
   "cell_type": "markdown",
   "metadata": {},
   "source": [
    "# Accuracy"
   ]
  },
  {
   "cell_type": "code",
   "execution_count": 1355,
   "metadata": {
    "scrolled": true
   },
   "outputs": [
    {
     "name": "stdout",
     "output_type": "stream",
     "text": [
      "98.57142857142858 %\n"
     ]
    }
   ],
   "source": [
    "TP, FP, FN, TN = confusion_matrix(y_test, NB_predict).ravel()\n",
    "NB_accuracy = (TP + TN) / (TP + FP + FN + TN)\n",
    "print(NB_accuracy*100,\"%\")\n"
   ]
  },
  {
   "cell_type": "markdown",
   "metadata": {},
   "source": [
    "# Cross Validation"
   ]
  },
  {
   "cell_type": "code",
   "execution_count": 1356,
   "metadata": {},
   "outputs": [
    {
     "name": "stdout",
     "output_type": "stream",
     "text": [
      "95.71428571428571 %\n"
     ]
    }
   ],
   "source": [
    "kfold = StratifiedKFold(n_splits=10, shuffle=True, random_state=101)\n",
    "NB_acc = cross_val_score(NB_model, X_test, y_test, cv=kfold, scoring='accuracy')\n",
    "print(NB_acc.mean()*100,'%')"
   ]
  },
  {
   "cell_type": "markdown",
   "metadata": {},
   "source": [
    "## \\# Precision # Recall or Sensitivity # Specificity # F1-Score # False Discovery Rate(FDR) # False Omission Rate(FOR)"
   ]
  },
  {
   "cell_type": "code",
   "execution_count": 1090,
   "metadata": {
    "scrolled": true
   },
   "outputs": [
    {
     "name": "stdout",
     "output_type": "stream",
     "text": [
      "Precision:  0.975609756097561\n",
      "Recall or Sensitivity:  1.0\n",
      "Specificity:  0.9666666666666667\n",
      "F1-Score:  0.9876543209876543\n",
      "False Discovery Rate(FDR):  0.024390243902439025\n",
      "False Omission Rate(FOR):  0.0\n"
     ]
    }
   ],
   "source": [
    "TP, FP, FN, TN = confusion_matrix(y_test, NB_predict).ravel()\n",
    "precision = TP / (TP + FP)\n",
    "recall = TP / (TP + FN)\n",
    "specificity = TN / (TN + FP)\n",
    "F1_Score = ((2*precision*recall) / (precision + recall))\n",
    "FDR = FP / (FP + TP)\n",
    "FOR = FN / (FN + TN)\n",
    "\n",
    "print(\"Precision: \", precision)\n",
    "print(\"Recall or Sensitivity: \", recall)\n",
    "print(\"Specificity: \", specificity)\n",
    "print(\"F1-Score: \", F1_Score)\n",
    "print(\"False Discovery Rate(FDR): \", FDR)\n",
    "print(\"False Omission Rate(FOR): \", FOR)"
   ]
  },
  {
   "cell_type": "markdown",
   "metadata": {},
   "source": [
    "# Logistic Regression"
   ]
  },
  {
   "cell_type": "markdown",
   "metadata": {
    "scrolled": true
   },
   "source": [
    "## confusion_matrix"
   ]
  },
  {
   "cell_type": "code",
   "execution_count": 1091,
   "metadata": {
    "scrolled": true
   },
   "outputs": [
    {
     "name": "stdout",
     "output_type": "stream",
     "text": [
      "[[41  0]\n",
      " [ 0 29]]\n"
     ]
    }
   ],
   "source": [
    "LR_model = LogisticRegression()\n",
    "\n",
    "LR_model.fit(X_train, y_train)\n",
    "LR_predict = LR_model.predict(X_test)\n",
    "print(confusion_matrix(y_test, LR_predict))"
   ]
  },
  {
   "cell_type": "markdown",
   "metadata": {},
   "source": [
    "## Accuracy"
   ]
  },
  {
   "cell_type": "code",
   "execution_count": 1092,
   "metadata": {
    "scrolled": true
   },
   "outputs": [
    {
     "name": "stdout",
     "output_type": "stream",
     "text": [
      "100.0 %\n"
     ]
    }
   ],
   "source": [
    "TP, FP, FN, TN = confusion_matrix(y_test, LR_predict).ravel()\n",
    "LR_accuracy = (TP + TN) / (TP + FP + FN + TN)\n",
    "print(LR_accuracy*100,\"%\")"
   ]
  },
  {
   "cell_type": "markdown",
   "metadata": {},
   "source": [
    "## Cross Validation"
   ]
  },
  {
   "cell_type": "code",
   "execution_count": 1093,
   "metadata": {
    "scrolled": true
   },
   "outputs": [
    {
     "name": "stdout",
     "output_type": "stream",
     "text": [
      "98.61111111111111 %\n"
     ]
    }
   ],
   "source": [
    "kfold = KFold(n_splits=8, shuffle=True, random_state=101)\n",
    "LR_acc = cross_val_score(LR_model, X_test, y_test, cv=kfold, scoring='accuracy')\n",
    "print(LR_acc.mean()*100,'%')"
   ]
  },
  {
   "cell_type": "markdown",
   "metadata": {},
   "source": [
    "## \\# Precision # Recall or Sensitivity # Specificity # F1-Score # False Discovery Rate(FDR) # False Omission Rate(FOR)"
   ]
  },
  {
   "cell_type": "code",
   "execution_count": 1094,
   "metadata": {
    "scrolled": true
   },
   "outputs": [
    {
     "name": "stdout",
     "output_type": "stream",
     "text": [
      "Precision:  1.0\n",
      "Recall or Sensitivity:  1.0\n",
      "Specificity:  1.0\n",
      "F1-Score:  1.0\n",
      "False Discovery Rate(FDR):  0.0\n",
      "False Omission Rate(FOR):  0.0\n"
     ]
    }
   ],
   "source": [
    "TP, FP, FN, TN = confusion_matrix(y_test, LR_predict).ravel()\n",
    "precision = TP / (TP + FP)\n",
    "recall = TP / (TP + FN)\n",
    "specificity = TN / (TN + FP)\n",
    "F1_Score = ((2*precision*recall) / (precision + recall))\n",
    "FDR = FP / (FP + TP)\n",
    "FOR = FN / (FN + TN)\n",
    "\n",
    "print(\"Precision: \", precision)\n",
    "print(\"Recall or Sensitivity: \", recall)\n",
    "print(\"Specificity: \", specificity)\n",
    "print(\"F1-Score: \", F1_Score)\n",
    "print(\"False Discovery Rate(FDR): \", FDR)\n",
    "print(\"False Omission Rate(FOR): \", FOR)"
   ]
  },
  {
   "cell_type": "markdown",
   "metadata": {},
   "source": [
    "# Decision TreeClassifier"
   ]
  },
  {
   "cell_type": "markdown",
   "metadata": {},
   "source": [
    "## Confusion Matrix"
   ]
  },
  {
   "cell_type": "code",
   "execution_count": 1095,
   "metadata": {},
   "outputs": [
    {
     "name": "stdout",
     "output_type": "stream",
     "text": [
      "[[40  1]\n",
      " [ 1 28]]\n"
     ]
    }
   ],
   "source": [
    "DT_model = DecisionTreeClassifier(criterion=\"entropy\", max_depth=3)\n",
    "\n",
    "DT_model.fit(X_train, y_train)\n",
    "DT_predict = DT_model.predict(X_test)\n",
    "print(confusion_matrix(y_test, DT_predict))"
   ]
  },
  {
   "cell_type": "markdown",
   "metadata": {},
   "source": [
    "## Accuracy"
   ]
  },
  {
   "cell_type": "code",
   "execution_count": 1096,
   "metadata": {},
   "outputs": [
    {
     "name": "stdout",
     "output_type": "stream",
     "text": [
      "97.14285714285714 %\n"
     ]
    }
   ],
   "source": [
    "TP, FP, FN, TN = confusion_matrix(y_test, DT_predict).ravel()\n",
    "DT_accuracy = (TP + TN) / (TP + FP + FN + TN)\n",
    "print(DT_accuracy*100,\"%\")"
   ]
  },
  {
   "cell_type": "markdown",
   "metadata": {},
   "source": [
    "## Cross Validation"
   ]
  },
  {
   "cell_type": "code",
   "execution_count": 1097,
   "metadata": {},
   "outputs": [
    {
     "name": "stdout",
     "output_type": "stream",
     "text": [
      "95.71428571428572 %\n"
     ]
    }
   ],
   "source": [
    "kfold = KFold(n_splits=10, shuffle=True, random_state=101)\n",
    "cvv = RepeatedStratifiedKFold(n_splits=10,  random_state=101)\n",
    "DT_acc = cross_val_score(DT_model, X_test, y_test, cv=kfold, scoring='accuracy')\n",
    "print(DT_acc.mean()*100,'%')"
   ]
  },
  {
   "cell_type": "markdown",
   "metadata": {},
   "source": [
    "## \\# Precision # Recall or Sensitivity # Specificity # F1-Score # False Discovery Rate(FDR) # False Omission Rate(FOR)"
   ]
  },
  {
   "cell_type": "code",
   "execution_count": 1098,
   "metadata": {},
   "outputs": [
    {
     "name": "stdout",
     "output_type": "stream",
     "text": [
      "Precision:  0.975609756097561\n",
      "Recall or Sensitivity:  0.975609756097561\n",
      "Specificity:  0.9655172413793104\n",
      "F1-Score:  0.975609756097561\n",
      "False Discovery Rate(FDR):  0.024390243902439025\n",
      "False Omission Rate(FOR):  0.034482758620689655\n"
     ]
    }
   ],
   "source": [
    "TP, FP, FN, TN = confusion_matrix(y_test, DT_predict).ravel()\n",
    "precision = TP / (TP + FP)\n",
    "recall = TP / (TP + FN)\n",
    "specificity = TN / (TN + FP)\n",
    "F1_Score = ((2*precision*recall) / (precision + recall))\n",
    "FDR = FP / (FP + TP)\n",
    "FOR = FN / (FN + TN)\n",
    "    \n",
    "print(\"Precision: \", precision)\n",
    "print(\"Recall or Sensitivity: \", recall)\n",
    "print(\"Specificity: \", specificity)\n",
    "print(\"F1-Score: \", F1_Score)\n",
    "print(\"False Discovery Rate(FDR): \", FDR)\n",
    "print(\"False Omission Rate(FOR): \", FOR)"
   ]
  },
  {
   "cell_type": "markdown",
   "metadata": {},
   "source": [
    "# support vector machines"
   ]
  },
  {
   "cell_type": "markdown",
   "metadata": {},
   "source": [
    "## Confusion Matrix"
   ]
  },
  {
   "cell_type": "code",
   "execution_count": 1382,
   "metadata": {},
   "outputs": [
    {
     "name": "stdout",
     "output_type": "stream",
     "text": [
      "[[41  0]\n",
      " [ 0 29]]\n"
     ]
    }
   ],
   "source": [
    "SVM_model = SVC()\n",
    "\n",
    "SVM_model.fit(X_train, y_train)\n",
    "SVM_predict = SVM_model.predict(X_test)\n",
    "print(confusion_matrix(y_test, SVM_predict))"
   ]
  },
  {
   "cell_type": "markdown",
   "metadata": {},
   "source": [
    "## Accuracy"
   ]
  },
  {
   "cell_type": "code",
   "execution_count": 1383,
   "metadata": {},
   "outputs": [
    {
     "name": "stdout",
     "output_type": "stream",
     "text": [
      "100.0 %\n"
     ]
    }
   ],
   "source": [
    "TP, FP, FN, TN = confusion_matrix(y_test, SVM_predict).ravel()\n",
    "SVM_accuracy = (TP + TN) / (TP + FP + FN + TN)\n",
    "print(SVM_accuracy*100,\"%\")"
   ]
  },
  {
   "cell_type": "markdown",
   "metadata": {},
   "source": [
    "## Cross Validation"
   ]
  },
  {
   "cell_type": "code",
   "execution_count": 1384,
   "metadata": {},
   "outputs": [
    {
     "name": "stdout",
     "output_type": "stream",
     "text": [
      "98.00000000000001 %\n"
     ]
    }
   ],
   "source": [
    "kfold = RepeatedKFold(n_splits=7, random_state=101)\n",
    "SVM_acc = cross_val_score(SVM_model, X_test, y_test, cv=kfold, scoring='accuracy')\n",
    "print(SVM_acc.mean()*100,'%')"
   ]
  },
  {
   "cell_type": "markdown",
   "metadata": {},
   "source": [
    "## \\# Precision # Recall or Sensitivity # Specificity # F1-Score # False Discovery Rate(FDR) # False Omission Rate(FOR)"
   ]
  },
  {
   "cell_type": "code",
   "execution_count": 1102,
   "metadata": {},
   "outputs": [
    {
     "name": "stdout",
     "output_type": "stream",
     "text": [
      "Precision:  1.0\n",
      "Recall or Sensitivity:  1.0\n",
      "Specificity:  1.0\n",
      "F1-Score:  1.0\n",
      "False Discovery Rate(FDR):  0.0\n",
      "False Omission Rate(FOR):  0.0\n"
     ]
    }
   ],
   "source": [
    "TP, FP, FN, TN = confusion_matrix(y_test, SVM_predict).ravel()\n",
    "precision = TP / (TP + FP)\n",
    "recall = TP / (TP + FN)\n",
    "specificity = TN / (TN + FP)\n",
    "F1_Score = ((2*precision*recall) / (precision + recall))\n",
    "FDR = FP / (FP + TP)\n",
    "FOR = FN / (FN + TN)\n",
    "    \n",
    "print(\"Precision: \", precision)\n",
    "print(\"Recall or Sensitivity: \", recall)\n",
    "print(\"Specificity: \", specificity)\n",
    "print(\"F1-Score: \", F1_Score)\n",
    "print(\"False Discovery Rate(FDR): \", FDR)\n",
    "print(\"False Omission Rate(FOR): \", FOR)"
   ]
  },
  {
   "cell_type": "markdown",
   "metadata": {},
   "source": [
    "# Linear Discriminant Analysis"
   ]
  },
  {
   "cell_type": "markdown",
   "metadata": {},
   "source": [
    "## Confusion Matrix"
   ]
  },
  {
   "cell_type": "code",
   "execution_count": 1103,
   "metadata": {},
   "outputs": [
    {
     "name": "stdout",
     "output_type": "stream",
     "text": [
      "[[41  0]\n",
      " [ 1 28]]\n"
     ]
    }
   ],
   "source": [
    "LDA_model = LinearDiscriminantAnalysis()\n",
    "\n",
    "LDA_model.fit(X_train, y_train)\n",
    "LDA_predict = LDA_model.predict(X_test)\n",
    "print(confusion_matrix(y_test, LDA_predict))\n"
   ]
  },
  {
   "cell_type": "markdown",
   "metadata": {},
   "source": [
    "## Accuracy"
   ]
  },
  {
   "cell_type": "code",
   "execution_count": 1104,
   "metadata": {},
   "outputs": [
    {
     "name": "stdout",
     "output_type": "stream",
     "text": [
      "98.57142857142858 %\n"
     ]
    }
   ],
   "source": [
    "TP, FP, FN, TN = confusion_matrix(y_test, LDA_predict).ravel()\n",
    "LDA_accuracy = (TP + TN) / (TP + FP + FN + TN)\n",
    "print(LDA_accuracy*100,\"%\")"
   ]
  },
  {
   "cell_type": "markdown",
   "metadata": {},
   "source": [
    "## Cross Validation"
   ]
  },
  {
   "cell_type": "code",
   "execution_count": 1105,
   "metadata": {},
   "outputs": [
    {
     "name": "stdout",
     "output_type": "stream",
     "text": [
      "98.73263888888889 %\n"
     ]
    }
   ],
   "source": [
    "kfold = RepeatedKFold(n_splits=8,  random_state=101)\n",
    "LDA_acc = cross_val_score(LDA_model, X_test, y_test, cv=kfold, scoring='accuracy')\n",
    "print(LDA_acc.mean()*100,'%')"
   ]
  },
  {
   "cell_type": "markdown",
   "metadata": {},
   "source": [
    "## \\# Precision # Recall or Sensitivity # Specificity # F1-Score # False Discovery Rate(FDR) # False Omission Rate(FOR)"
   ]
  },
  {
   "cell_type": "code",
   "execution_count": 1106,
   "metadata": {},
   "outputs": [
    {
     "name": "stdout",
     "output_type": "stream",
     "text": [
      "Precision:  1.0\n",
      "Recall or Sensitivity:  0.9761904761904762\n",
      "Specificity:  1.0\n",
      "F1-Score:  0.9879518072289156\n",
      "False Discovery Rate(FDR):  0.0\n",
      "False Omission Rate(FOR):  0.034482758620689655\n"
     ]
    }
   ],
   "source": [
    "TP, FP, FN, TN = confusion_matrix(y_test, LDA_predict).ravel()\n",
    "precision = TP / (TP + FP)\n",
    "recall = TP / (TP + FN)\n",
    "specificity = TN / (TN + FP)\n",
    "F1_Score = ((2*precision*recall) / (precision + recall))\n",
    "FDR = FP / (FP + TP)\n",
    "FOR = FN / (FN + TN)\n",
    "    \n",
    "print(\"Precision: \", precision)\n",
    "print(\"Recall or Sensitivity: \", recall)\n",
    "print(\"Specificity: \", specificity)\n",
    "print(\"F1-Score: \", F1_Score)\n",
    "print(\"False Discovery Rate(FDR): \", FDR)\n",
    "print(\"False Omission Rate(FOR): \", FOR)"
   ]
  },
  {
   "cell_type": "markdown",
   "metadata": {},
   "source": [
    "# KNeighborsClassifier"
   ]
  },
  {
   "cell_type": "markdown",
   "metadata": {},
   "source": [
    "## Confusion Matrix"
   ]
  },
  {
   "cell_type": "code",
   "execution_count": 1107,
   "metadata": {},
   "outputs": [
    {
     "name": "stdout",
     "output_type": "stream",
     "text": [
      "[[41  0]\n",
      " [ 2 27]]\n"
     ]
    }
   ],
   "source": [
    "KN_model = KNeighborsClassifier()\n",
    "\n",
    "KN_model.fit(X_train, y_train)\n",
    "KN_predict = KN_model.predict(X_test)\n",
    "print(confusion_matrix(y_test, KN_predict))"
   ]
  },
  {
   "cell_type": "markdown",
   "metadata": {},
   "source": [
    "## Accuracy"
   ]
  },
  {
   "cell_type": "code",
   "execution_count": 1108,
   "metadata": {},
   "outputs": [
    {
     "name": "stdout",
     "output_type": "stream",
     "text": [
      "97.14285714285714 %\n"
     ]
    }
   ],
   "source": [
    "TP, FP, FN, TN = confusion_matrix(y_test, KN_predict).ravel()\n",
    "KN_accuracy = (TP + TN) / (TP + FP + FN + TN)\n",
    "print(KN_accuracy*100,\"%\")"
   ]
  },
  {
   "cell_type": "markdown",
   "metadata": {},
   "source": [
    "## Cross Validation"
   ]
  },
  {
   "cell_type": "code",
   "execution_count": 1109,
   "metadata": {},
   "outputs": [
    {
     "name": "stdout",
     "output_type": "stream",
     "text": [
      "98.87152777777779 %\n"
     ]
    }
   ],
   "source": [
    "kfold = RepeatedKFold(n_splits=8,  random_state=101)\n",
    "KN_acc = cross_val_score(KN_model, X_test, y_test, cv=kfold, scoring='accuracy')\n",
    "print(KN_acc.mean()*100,'%')"
   ]
  },
  {
   "cell_type": "markdown",
   "metadata": {},
   "source": [
    "## \\# Precision # Recall or Sensitivity # Specificity # F1-Score # False Discovery Rate(FDR) # False Omission Rate(FOR)"
   ]
  },
  {
   "cell_type": "code",
   "execution_count": 1110,
   "metadata": {},
   "outputs": [
    {
     "name": "stdout",
     "output_type": "stream",
     "text": [
      "Precision:  1.0\n",
      "Recall or Sensitivity:  0.9534883720930233\n",
      "Specificity:  1.0\n",
      "F1-Score:  0.9761904761904763\n",
      "False Discovery Rate(FDR):  0.0\n",
      "False Omission Rate(FOR):  0.06896551724137931\n"
     ]
    }
   ],
   "source": [
    "TP, FP, FN, TN = confusion_matrix(y_test, KN_predict).ravel()\n",
    "precision = TP / (TP + FP)\n",
    "recall = TP / (TP + FN)\n",
    "specificity = TN / (TN + FP)\n",
    "F1_Score = ((2*precision*recall) / (precision + recall))\n",
    "FDR = FP / (FP + TP)\n",
    "FOR = FN / (FN + TN)\n",
    "    \n",
    "print(\"Precision: \", precision)\n",
    "print(\"Recall or Sensitivity: \", recall)\n",
    "print(\"Specificity: \", specificity)\n",
    "print(\"F1-Score: \", F1_Score)\n",
    "print(\"False Discovery Rate(FDR): \", FDR)\n",
    "print(\"False Omission Rate(FOR): \", FOR)"
   ]
  },
  {
   "cell_type": "markdown",
   "metadata": {},
   "source": [
    "# AdaBoost Classifier"
   ]
  },
  {
   "cell_type": "markdown",
   "metadata": {},
   "source": [
    "## Confussion Matrix"
   ]
  },
  {
   "cell_type": "code",
   "execution_count": 1111,
   "metadata": {},
   "outputs": [
    {
     "name": "stdout",
     "output_type": "stream",
     "text": [
      "[[41  0]\n",
      " [ 0 29]]\n"
     ]
    }
   ],
   "source": [
    "AB_model = AdaBoostClassifier(base_estimator=RandomForestClassifier(), learning_rate=0.01)\n",
    "\n",
    "AB_model.fit(X_train, y_train)\n",
    "AB_predict = AB_model.predict(X_test)\n",
    "print(confusion_matrix(y_test, AB_predict))\n"
   ]
  },
  {
   "cell_type": "markdown",
   "metadata": {},
   "source": [
    "## Accuracy"
   ]
  },
  {
   "cell_type": "code",
   "execution_count": 1112,
   "metadata": {},
   "outputs": [
    {
     "name": "stdout",
     "output_type": "stream",
     "text": [
      "100.0 %\n"
     ]
    }
   ],
   "source": [
    "TP, FP, FN, TN = confusion_matrix(y_test, AB_predict).ravel()\n",
    "AB_accuracy = (TP + TN) / (TP + FP + FN + TN)\n",
    "print(AB_accuracy*100,\"%\")"
   ]
  },
  {
   "cell_type": "code",
   "execution_count": 1113,
   "metadata": {},
   "outputs": [
    {
     "name": "stdout",
     "output_type": "stream",
     "text": [
      "98.57142857142858 %\n"
     ]
    }
   ],
   "source": [
    "kfold = KFold(n_splits=10, shuffle=True, random_state=101)\n",
    "AB_acc = cross_val_score(AB_model, X_test, y_test, cv=kfold, scoring='accuracy')\n",
    "print(AB_acc.mean()*100,'%')"
   ]
  },
  {
   "cell_type": "markdown",
   "metadata": {},
   "source": [
    "## \\# Precision # Recall or Sensitivity # Specificity # F1-Score # False Discovery Rate(FDR) # False Omission Rate(FOR)"
   ]
  },
  {
   "cell_type": "code",
   "execution_count": 1114,
   "metadata": {},
   "outputs": [
    {
     "name": "stdout",
     "output_type": "stream",
     "text": [
      "Precision:  1.0\n",
      "Recall or Sensitivity:  1.0\n",
      "Specificity:  1.0\n",
      "F1-Score:  1.0\n",
      "False Discovery Rate(FDR):  0.0\n",
      "False Omission Rate(FOR):  0.0\n"
     ]
    }
   ],
   "source": [
    "TP, FP, FN, TN = confusion_matrix(y_test, AB_predict).ravel()\n",
    "precision = TP / (TP + FP)\n",
    "recall = TP / (TP + FN)\n",
    "specificity = TN / (TN + FP)\n",
    "F1_Score = ((2*precision*recall) / (precision + recall))\n",
    "FDR = FP / (FP + TP)\n",
    "FOR = FN / (FN + TN)\n",
    "    \n",
    "print(\"Precision: \", precision)\n",
    "print(\"Recall or Sensitivity: \", recall)\n",
    "print(\"Specificity: \", specificity)\n",
    "print(\"F1-Score: \", F1_Score)\n",
    "print(\"False Discovery Rate(FDR): \", FDR)\n",
    "print(\"False Omission Rate(FOR): \", FOR)"
   ]
  },
  {
   "cell_type": "markdown",
   "metadata": {},
   "source": [
    "# Random Forest Classifier"
   ]
  },
  {
   "cell_type": "markdown",
   "metadata": {},
   "source": [
    "## Confussion Matrix"
   ]
  },
  {
   "cell_type": "code",
   "execution_count": 1115,
   "metadata": {},
   "outputs": [
    {
     "name": "stdout",
     "output_type": "stream",
     "text": [
      "[[41  0]\n",
      " [ 0 29]]\n"
     ]
    }
   ],
   "source": [
    "RF_model = RandomForestClassifier()\n",
    "\n",
    "RF_model.fit(X_train, y_train)\n",
    "RF_predict = RF_model.predict(X_test)\n",
    "print(confusion_matrix(y_test, RF_predict))\n"
   ]
  },
  {
   "cell_type": "markdown",
   "metadata": {},
   "source": [
    "## Accuracy"
   ]
  },
  {
   "cell_type": "code",
   "execution_count": 1116,
   "metadata": {},
   "outputs": [
    {
     "name": "stdout",
     "output_type": "stream",
     "text": [
      "100.0 %\n"
     ]
    }
   ],
   "source": [
    "TP, FP, FN, TN = confusion_matrix(y_test, RF_predict).ravel()\n",
    "RF_accuracy = (TP + TN) / (TP + FP + FN + TN)\n",
    "print(RF_accuracy*100,\"%\")"
   ]
  },
  {
   "cell_type": "markdown",
   "metadata": {},
   "source": [
    "## Cross Validation"
   ]
  },
  {
   "cell_type": "code",
   "execution_count": 1117,
   "metadata": {},
   "outputs": [
    {
     "name": "stdout",
     "output_type": "stream",
     "text": [
      "98.71527777777779 %\n"
     ]
    }
   ],
   "source": [
    "kfold = RepeatedKFold(n_splits=8, random_state=101)\n",
    "RF_acc = cross_val_score(RF_model, X_test, y_test, cv=kfold, scoring='accuracy')\n",
    "print(RF_acc.mean()*100,'%')"
   ]
  },
  {
   "cell_type": "markdown",
   "metadata": {},
   "source": [
    "## \\# Precision # Recall or Sensitivity # Specificity # F1-Score # False Discovery Rate(FDR) # False Omission Rate(FOR)"
   ]
  },
  {
   "cell_type": "code",
   "execution_count": 1118,
   "metadata": {},
   "outputs": [
    {
     "name": "stdout",
     "output_type": "stream",
     "text": [
      "Precision:  1.0\n",
      "Recall or Sensitivity:  1.0\n",
      "Specificity:  1.0\n",
      "F1-Score:  1.0\n",
      "False Discovery Rate(FDR):  0.0\n",
      "False Omission Rate(FOR):  0.0\n"
     ]
    }
   ],
   "source": [
    "TP, FP, FN, TN = confusion_matrix(y_test, RF_predict).ravel()\n",
    "precision = TP / (TP + FP)\n",
    "recall = TP / (TP + FN)\n",
    "specificity = TN / (TN + FP)\n",
    "F1_Score = ((2*precision*recall) / (precision + recall))\n",
    "FDR = FP / (FP + TP)\n",
    "FOR = FN / (FN + TN)\n",
    "\n",
    "print(\"Precision: \", precision)\n",
    "print(\"Recall or Sensitivity: \", recall)\n",
    "print(\"Specificity: \", specificity)\n",
    "print(\"F1-Score: \", F1_Score)\n",
    "print(\"False Discovery Rate(FDR): \", FDR)\n",
    "print(\"False Omission Rate(FOR): \", FOR)"
   ]
  },
  {
   "cell_type": "markdown",
   "metadata": {},
   "source": [
    "# Voting Classifier"
   ]
  },
  {
   "cell_type": "markdown",
   "metadata": {},
   "source": [
    "## Confussion Matrix"
   ]
  },
  {
   "cell_type": "code",
   "execution_count": 1119,
   "metadata": {},
   "outputs": [
    {
     "name": "stdout",
     "output_type": "stream",
     "text": [
      "[[41  0]\n",
      " [ 0 29]]\n"
     ]
    }
   ],
   "source": [
    "VC_model = VotingClassifier(estimators=[('ab',AdaBoostClassifier()),('lr',LogisticRegression()),\n",
    "                                        ('rf',RandomForestClassifier()),('svm',SVC())],voting='hard')\n",
    "\n",
    "VC_model.fit(X_train, y_train)\n",
    "VC_predict = VC_model.predict(X_test)\n",
    "print(confusion_matrix(y_test, VC_predict))"
   ]
  },
  {
   "cell_type": "markdown",
   "metadata": {},
   "source": [
    "## Accuracy"
   ]
  },
  {
   "cell_type": "code",
   "execution_count": 1120,
   "metadata": {},
   "outputs": [
    {
     "name": "stdout",
     "output_type": "stream",
     "text": [
      "100.0 %\n"
     ]
    }
   ],
   "source": [
    "TP, FP, FN, TN = confusion_matrix(y_test, VC_predict).ravel()\n",
    "VC_accuracy = (TP + TN) / (TP + FP + FN + TN)\n",
    "print(VC_accuracy*100,\"%\")"
   ]
  },
  {
   "cell_type": "markdown",
   "metadata": {},
   "source": [
    "## Cross Validation"
   ]
  },
  {
   "cell_type": "code",
   "execution_count": 1121,
   "metadata": {},
   "outputs": [
    {
     "name": "stdout",
     "output_type": "stream",
     "text": [
      "98.73263888888889 %\n"
     ]
    }
   ],
   "source": [
    "kfold = RepeatedKFold(n_splits=8, random_state=101)\n",
    "VC_acc = cross_val_score(VC_model, X_test, y_test, cv=kfold, scoring='accuracy')\n",
    "print(VC_acc.mean()*100,'%')"
   ]
  },
  {
   "cell_type": "markdown",
   "metadata": {},
   "source": [
    "## \\# Precision # Recall or Sensitivity # Specificity # F1-Score # False Discovery Rate(FDR) # False Omission Rate(FOR)"
   ]
  },
  {
   "cell_type": "code",
   "execution_count": 1122,
   "metadata": {},
   "outputs": [
    {
     "name": "stdout",
     "output_type": "stream",
     "text": [
      "Precision:  1.0\n",
      "Recall or Sensitivity:  1.0\n",
      "Specificity:  1.0\n",
      "F1-Score:  1.0\n",
      "False Discovery Rate(FDR):  0.0\n",
      "False Omission Rate(FOR):  0.0\n"
     ]
    }
   ],
   "source": [
    "TP, FP, FN, TN = confusion_matrix(y_test, VC_predict).ravel()\n",
    "precision = TP / (TP + FP)\n",
    "recall = TP / (TP + FN)\n",
    "specificity = TN / (TN + FP)\n",
    "F1_Score = ((2*precision*recall) / (precision + recall))\n",
    "FDR = FP / (FP + TP)\n",
    "FOR = FN / (FN + TN)\n",
    "    \n",
    "print(\"Precision: \", precision)\n",
    "print(\"Recall or Sensitivity: \", recall)\n",
    "print(\"Specificity: \", specificity)\n",
    "print(\"F1-Score: \", F1_Score)\n",
    "print(\"False Discovery Rate(FDR): \", FDR)\n",
    "print(\"False Omission Rate(FOR): \", FOR)\n"
   ]
  },
  {
   "cell_type": "markdown",
   "metadata": {},
   "source": [
    "# Stochastic Gradient Descent"
   ]
  },
  {
   "cell_type": "markdown",
   "metadata": {},
   "source": [
    "## Confussion Matrix"
   ]
  },
  {
   "cell_type": "code",
   "execution_count": 1123,
   "metadata": {},
   "outputs": [
    {
     "name": "stdout",
     "output_type": "stream",
     "text": [
      "[[41  0]\n",
      " [ 1 28]]\n"
     ]
    }
   ],
   "source": [
    "SGD_model = SGDClassifier( max_iter=100)\n",
    "\n",
    "SGD_model.fit(X_train, y_train)\n",
    "SGD_predict = SGD_model.predict(X_test)\n",
    "print(confusion_matrix(y_test, SGD_predict))"
   ]
  },
  {
   "cell_type": "markdown",
   "metadata": {},
   "source": [
    "## Accuracy"
   ]
  },
  {
   "cell_type": "code",
   "execution_count": 1124,
   "metadata": {},
   "outputs": [
    {
     "name": "stdout",
     "output_type": "stream",
     "text": [
      "98.57142857142858 %\n"
     ]
    }
   ],
   "source": [
    "TP, FP, FN, TN = confusion_matrix(y_test, SGD_predict).ravel()\n",
    "SGD_accuracy = (TP + TN) / (TP + FP + FN + TN)\n",
    "print(SGD_accuracy*100,\"%\")\n"
   ]
  },
  {
   "cell_type": "markdown",
   "metadata": {},
   "source": [
    "## Cross Validation"
   ]
  },
  {
   "cell_type": "code",
   "execution_count": 1135,
   "metadata": {},
   "outputs": [
    {
     "name": "stdout",
     "output_type": "stream",
     "text": [
      "98.57142857142858 %\n"
     ]
    }
   ],
   "source": [
    "kfold = KFold(n_splits=10, shuffle=True, random_state=101)\n",
    "cvv = RepeatedKFold(n_splits=10, random_state=101)\n",
    "SGD_acc = cross_val_score(SGD_model, X_test, y_test, cv=kfold, scoring='accuracy')\n",
    "print(SGD_acc.mean()*100,'%')"
   ]
  },
  {
   "cell_type": "markdown",
   "metadata": {},
   "source": [
    "# 100.0 %"
   ]
  },
  {
   "cell_type": "markdown",
   "metadata": {},
   "source": [
    "## \\# Precision # Recall or Sensitivity # Specificity # F1-Score # False Discovery Rate(FDR) # False Omission Rate(FOR)"
   ]
  },
  {
   "cell_type": "code",
   "execution_count": 1126,
   "metadata": {},
   "outputs": [
    {
     "name": "stdout",
     "output_type": "stream",
     "text": [
      "Precision:  1.0\n",
      "Recall or Sensitivity:  0.9761904761904762\n",
      "Specificity:  1.0\n",
      "F1-Score:  0.9879518072289156\n",
      "False Discovery Rate(FDR):  0.0\n",
      "False Omission Rate(FOR):  0.034482758620689655\n"
     ]
    }
   ],
   "source": [
    "TP, FP, FN, TN = confusion_matrix(y_test, SGD_predict).ravel()\n",
    "precision = TP / (TP + FP)\n",
    "recall = TP / (TP + FN)\n",
    "specificity = TN / (TN + FP)\n",
    "F1_Score = ((2*precision*recall) / (precision + recall))\n",
    "FDR = FP / (FP + TP)\n",
    "FOR = FN / (FN + TN)\n",
    "    \n",
    "print(\"Precision: \", precision)\n",
    "print(\"Recall or Sensitivity: \", recall)\n",
    "print(\"Specificity: \", specificity)\n",
    "print(\"F1-Score: \", F1_Score)\n",
    "print(\"False Discovery Rate(FDR): \", FDR)\n",
    "print(\"False Omission Rate(FOR): \", FOR)"
   ]
  },
  {
   "cell_type": "markdown",
   "metadata": {},
   "source": [
    "# Bagging Classifier"
   ]
  },
  {
   "cell_type": "markdown",
   "metadata": {},
   "source": [
    "## Confussion Matrix"
   ]
  },
  {
   "cell_type": "code",
   "execution_count": 1127,
   "metadata": {},
   "outputs": [
    {
     "name": "stdout",
     "output_type": "stream",
     "text": [
      "[[41  0]\n",
      " [ 0 29]]\n"
     ]
    }
   ],
   "source": [
    "BC_model = BaggingClassifier(base_estimator = LogisticRegression(), n_estimators = 500) #our contribution\n",
    "\n",
    "BC_model.fit(X_train, y_train)\n",
    "BC_predict = BC_model.predict(X_test)\n",
    "print(confusion_matrix(y_test, BC_predict))"
   ]
  },
  {
   "cell_type": "markdown",
   "metadata": {},
   "source": [
    "## Accuracy"
   ]
  },
  {
   "cell_type": "code",
   "execution_count": 1128,
   "metadata": {},
   "outputs": [
    {
     "name": "stdout",
     "output_type": "stream",
     "text": [
      "100.0 %\n"
     ]
    }
   ],
   "source": [
    "TP, FP, FN, TN = confusion_matrix(y_test, BC_predict).ravel()\n",
    "BC_accuracy = (TP + TN) / (TP + FP + FN + TN)\n",
    "print(BC_accuracy*100,\"%\")"
   ]
  },
  {
   "cell_type": "markdown",
   "metadata": {},
   "source": [
    "## Cross Validation"
   ]
  },
  {
   "cell_type": "code",
   "execution_count": 1129,
   "metadata": {},
   "outputs": [
    {
     "name": "stdout",
     "output_type": "stream",
     "text": [
      "98.61111111111111 %\n"
     ]
    }
   ],
   "source": [
    "kfold = KFold(n_splits=8, shuffle=True, random_state=101)\n",
    "BC_acc = cross_val_score(BC_model, X_test, y_test, cv=kfold, scoring='accuracy')\n",
    "print(BC_acc.mean()*100,'%')"
   ]
  },
  {
   "cell_type": "markdown",
   "metadata": {},
   "source": [
    "## \\# Precision # Recall or Sensitivity # Specificity # F1-Score # False Discovery Rate(FDR) # False Omission Rate(FOR)"
   ]
  },
  {
   "cell_type": "code",
   "execution_count": 1130,
   "metadata": {},
   "outputs": [
    {
     "name": "stdout",
     "output_type": "stream",
     "text": [
      "Precision:  1.0\n",
      "Recall or Sensitivity:  1.0\n",
      "Specificity:  1.0\n",
      "F1-Score:  1.0\n",
      "False Discovery Rate(FDR):  0.0\n",
      "False Omission Rate(FOR):  0.0\n"
     ]
    }
   ],
   "source": [
    "TP, FP, FN, TN = confusion_matrix(y_test, BC_predict).ravel()\n",
    "precision = TP / (TP + FP)\n",
    "recall = TP / (TP + FN)\n",
    "specificity = TN / (TN + FP)\n",
    "F1_Score = ((2*precision*recall) / (precision + recall))\n",
    "FDR = FP / (FP + TP)\n",
    "FOR = FN / (FN + TN)\n",
    "    \n",
    "print(\"Precision: \", precision)\n",
    "print(\"Recall or Sensitivity: \", recall)\n",
    "print(\"Specificity: \", specificity)\n",
    "print(\"F1-Score: \", F1_Score)\n",
    "print(\"False Discovery Rate(FDR): \", FDR)\n",
    "print(\"False Omission Rate(FOR): \", FOR)"
   ]
  },
  {
   "cell_type": "markdown",
   "metadata": {},
   "source": [
    "## Gradient Boosting Classifier"
   ]
  },
  {
   "cell_type": "markdown",
   "metadata": {},
   "source": [
    "## Confussion Matrix"
   ]
  },
  {
   "cell_type": "code",
   "execution_count": 1131,
   "metadata": {},
   "outputs": [
    {
     "name": "stdout",
     "output_type": "stream",
     "text": [
      "[[40  1]\n",
      " [ 1 28]]\n"
     ]
    }
   ],
   "source": [
    "GB_model = GradientBoostingClassifier()\n",
    "\n",
    "GB_model.fit(X_train, y_train)\n",
    "GB_predict = GB_model.predict(X_test)\n",
    "print(confusion_matrix(y_test, GB_predict))"
   ]
  },
  {
   "cell_type": "markdown",
   "metadata": {},
   "source": [
    "## Accuracy"
   ]
  },
  {
   "cell_type": "code",
   "execution_count": 1132,
   "metadata": {},
   "outputs": [
    {
     "name": "stdout",
     "output_type": "stream",
     "text": [
      "97.14285714285714 %\n"
     ]
    }
   ],
   "source": [
    "TP, FP, FN, TN = confusion_matrix(y_test, GB_predict).ravel()\n",
    "GB_accuracy = (TP + TN) / (TP + FP + FN + TN)\n",
    "print(GB_accuracy*100,\"%\")"
   ]
  },
  {
   "cell_type": "markdown",
   "metadata": {},
   "source": [
    "## Cross Validation"
   ]
  },
  {
   "cell_type": "code",
   "execution_count": 1133,
   "metadata": {},
   "outputs": [
    {
     "name": "stdout",
     "output_type": "stream",
     "text": [
      "98.57142857142858 %\n"
     ]
    }
   ],
   "source": [
    "kfold = KFold(n_splits=10, shuffle=True, random_state=101)\n",
    "GB_acc = cross_val_score(GB_model, X_test, y_test, cv=kfold, scoring='accuracy')\n",
    "print(GB_acc.mean()*100,'%')"
   ]
  },
  {
   "cell_type": "markdown",
   "metadata": {},
   "source": [
    "## \\# Precision # Recall or Sensitivity # Specificity # F1-Score # False Discovery Rate(FDR) # False Omission Rate(FOR)"
   ]
  },
  {
   "cell_type": "code",
   "execution_count": 1134,
   "metadata": {},
   "outputs": [
    {
     "name": "stdout",
     "output_type": "stream",
     "text": [
      "Precision:  0.975609756097561\n",
      "Recall or Sensitivity:  0.975609756097561\n",
      "Specificity:  0.9655172413793104\n",
      "F1-Score:  0.975609756097561\n",
      "False Discovery Rate(FDR):  0.024390243902439025\n",
      "False Omission Rate(FOR):  0.034482758620689655\n"
     ]
    }
   ],
   "source": [
    "TP, FP, FN, TN = confusion_matrix(y_test, GB_predict).ravel()\n",
    "precision = TP / (TP + FP)\n",
    "recall = TP / (TP + FN)\n",
    "specificity = TN / (TN + FP)\n",
    "F1_Score = ((2*precision*recall) / (precision + recall))\n",
    "FDR = FP / (FP + TP)\n",
    "FOR = FN / (FN + TN)\n",
    "    \n",
    "print(\"Precision: \", precision)\n",
    "print(\"Recall or Sensitivity: \", recall)\n",
    "print(\"Specificity: \", specificity)\n",
    "print(\"F1-Score: \", F1_Score)\n",
    "print(\"False Discovery Rate(FDR): \", FDR)\n",
    "print(\"False Omission Rate(FOR): \", FOR)"
   ]
  },
  {
   "cell_type": "code",
   "execution_count": null,
   "metadata": {},
   "outputs": [],
   "source": []
  },
  {
   "cell_type": "code",
   "execution_count": null,
   "metadata": {},
   "outputs": [],
   "source": []
  }
 ],
 "metadata": {
  "colab": {
   "collapsed_sections": [],
   "name": "Breast Cancer Detection Original Data.ipynb",
   "provenance": []
  },
  "kernelspec": {
   "display_name": "Python 3 (ipykernel)",
   "language": "python",
   "name": "python3"
  },
  "language_info": {
   "codemirror_mode": {
    "name": "ipython",
    "version": 3
   },
   "file_extension": ".py",
   "mimetype": "text/x-python",
   "name": "python",
   "nbconvert_exporter": "python",
   "pygments_lexer": "ipython3",
   "version": "3.9.13"
  }
 },
 "nbformat": 4,
 "nbformat_minor": 1
}
